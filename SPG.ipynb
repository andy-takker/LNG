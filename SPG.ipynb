{
 "cells": [
  {
   "cell_type": "markdown",
   "metadata": {},
   "source": [
    "# Расчеты СПГ "
   ]
  },
  {
   "cell_type": "markdown",
   "metadata": {},
   "source": [
    "### Исходные данные транспортировки\n",
    "#### Дальность транспортировки\n",
    "| Показатель                         | Ед.изм. | Переменная |\n",
    "|----------------------------------------|------|---------|\n",
    "| Максимальная дальность транспортировки |  км  | max_len |\n",
    "| Средняя скорость автомобиля            | км/ч |   avs   |\n",
    "| Количество рабочих дней в месяце       | дней |   wdm   |\n",
    "| Количество рабочих часов в день        | дней |   whd   |"
   ]
  },
  {
   "cell_type": "code",
   "execution_count": 1,
   "metadata": {
    "scrolled": true
   },
   "outputs": [],
   "source": [
    "avs = 60.0\n",
    "wdm = 25 \n",
    "whd = 10\n",
    "max_len = avs * wdm * whd / 2"
   ]
  },
  {
   "cell_type": "markdown",
   "metadata": {},
   "source": [
    "#### Трубопровод\n",
    "| Трубопровод i                          | Ед. изм. | Переменная |\n",
    "|----------------------------------------|------|---------|\n",
    "| Полезный диаметр                       |  мм  |  ud[i]  |\n",
    "| Количество направлений поставки        |  ед  |    i+1    |\n",
    "| Рабочее давлениие                      |  МПа |  up[i]  |\n",
    "| Производительность                     |  $м^{3}/ч$ |  pd[i]  |\n",
    "где i = 0..4"
   ]
  },
  {
   "cell_type": "code",
   "execution_count": 2,
   "metadata": {},
   "outputs": [],
   "source": [
    "ud = [90, 62, 51, 45, 41]\n",
    "up = [0.6, 0.6, 0.6, 0.75, 0.75]"
   ]
  },
  {
   "cell_type": "code",
   "execution_count": 3,
   "metadata": {},
   "outputs": [
    {
     "name": "stdout",
     "output_type": "stream",
     "text": [
      "Производительность трубопровода 1 : 3808.6686\n",
      "Производительность трубопровода 2 : 1807.471864\n",
      "Производительность трубопровода 3 : 1223.0058060000001\n",
      "Производительность трубопровода 4 : 1155.67965\n",
      "Производительность трубопровода 5 : 959.356786\n"
     ]
    }
   ],
   "source": [
    "pd=[]\n",
    "for i in range(5):\n",
    "    pd.append(0.67*(up[i]+0.1018)*ud[i]**2)\n",
    "    print(\"Производительность трубопровода \"+str(i+1)+\" : \"+str(pd[i]))"
   ]
  },
  {
   "cell_type": "markdown",
   "metadata": {},
   "source": [
    "## Капитальные затраты\n",
    "#### CAPEX завода калькуляция\n",
    "| Показатель                             | Переменная |\n",
    "|----------------------------------------|------------|\n",
    "| Производственное оборудование          | prod_equip |\n",
    "| Экспертиза промышленной безопасности   | ind_safety |\n",
    "| Проектирование и строительство сооружений<br>и инженерных коммуникаций, монтаж оборудования | commun_ins |\n",
    "| Непредвиденные расходы                 | unexp_exp |\n",
    "| **ИТОГО** | total | "
   ]
  },
  {
   "cell_type": "code",
   "execution_count": 4,
   "metadata": {},
   "outputs": [
    {
     "name": "stdout",
     "output_type": "stream",
     "text": [
      "776490.0\n"
     ]
    }
   ],
   "source": [
    "prod_equip = 494000\n",
    "ind_safety = 35900\n",
    "commun_ins = 176000\n",
    "unexp_exp = (prod_equip + ind_safety + commun_ins) * 0.1\n",
    "total = prod_equip + ind_safety + commun_ins + unexp_exp\n",
    "print (total)"
   ]
  },
  {
   "cell_type": "markdown",
   "metadata": {},
   "source": [
    "#### Завод"
   ]
  },
  {
   "cell_type": "markdown",
   "metadata": {},
   "source": [
    "| Показатель                                |  Ед. изм.   |  Переменная   |\n",
    "|-------------------------------------------|-------------|---------------|\n",
    "| Мощность по СПГ в год                     |     т.      |   lng_capac   |\n",
    "| Мощность, эквивалентная природному газу   | тыс. $м^3$  | pow_equiv_nat |\n",
    "| Капитальные затраты                       |     руб.    | capital_expen |\n",
    "| Норма амортизации                         |      %      |  deprec_rate_plant  |\n",
    "| Непредвиденные расходы                    |     руб.    | unexp_expense |"
   ]
  },
  {
   "cell_type": "code",
   "execution_count": 5,
   "metadata": {},
   "outputs": [
    {
     "name": "stdout",
     "output_type": "stream",
     "text": [
      "Мощность эквивалентная природному газу: 31055.850000000002\n",
      "Капитальные затраты: 705900000\n",
      "Непредвиденные расходы: 70590000.0\n"
     ]
    }
   ],
   "source": [
    "lng_capac = 22500\n",
    "\n",
    "pow_equiv_nat = lng_capac * 1.38026\n",
    "\n",
    "capital_expen = (prod_equip + ind_safety + commun_ins) * 1000\n",
    "\n",
    "deprec_rate_plant = 0.1\n",
    "\n",
    "unexp_expense = capital_expen * deprec_rate_plant\n",
    "\n",
    "print(\"Мощность эквивалентная природному газу:\",pow_equiv_nat)\n",
    "print(\"Капитальные затраты:\",capital_expen)\n",
    "print(\"Непредвиденные расходы:\",unexp_expense)"
   ]
  },
  {
   "cell_type": "markdown",
   "metadata": {},
   "source": [
    "#### Автотранспорт"
   ]
  },
  {
   "cell_type": "markdown",
   "metadata": {},
   "source": [
    "| Показатель                                       | Ед. изм. | Переменная |\n",
    "|--------------------------------------------------|----------|------------|\n",
    "| Минимальное количество трейлеров с цистернами    |    Ед    | numb_trail |\n",
    "| Норма амортизации                                |     %    | deprec_rate_auto |\n",
    "| Цена за 1 трейлер с цистерной                    |   руб.   | price_per_trail |\n",
    "| **Общая стоимость оборудования для транспортировки** |   руб.   | total_transp_equip  |"
   ]
  },
  {
   "cell_type": "code",
   "execution_count": 6,
   "metadata": {},
   "outputs": [
    {
     "name": "stdout",
     "output_type": "stream",
     "text": [
      "Общая стоимость оборудования для транспортировки: 26000000\n"
     ]
    }
   ],
   "source": [
    "numb_trail = 2\n",
    "deprec_rate_auto = 0.2\n",
    "price_per_trail = 13000000\n",
    "total_transp_equip = numb_trail * price_per_trail\n",
    "print(\"Общая стоимость оборудования для транспортировки:\",total_transp_equip)"
   ]
  },
  {
   "cell_type": "markdown",
   "metadata": {},
   "source": [
    "#### Всего капитальные затраты на СПГ без регазификации"
   ]
  },
  {
   "cell_type": "code",
   "execution_count": 7,
   "metadata": {},
   "outputs": [
    {
     "name": "stdout",
     "output_type": "stream",
     "text": [
      "802490000.0\n"
     ]
    }
   ],
   "source": [
    "total_lng_capital_equip = total_transp_equip + unexp_expense + capital_expen\n",
    "print(total_lng_capital_equip)"
   ]
  },
  {
   "cell_type": "markdown",
   "metadata": {},
   "source": [
    "#### Суммарная амортизация в год без регазификация"
   ]
  },
  {
   "cell_type": "code",
   "execution_count": 8,
   "metadata": {},
   "outputs": [
    {
     "name": "stdout",
     "output_type": "stream",
     "text": [
      "82849000.0\n"
     ]
    }
   ],
   "source": [
    "total_depreciation = total_transp_equip*deprec_rate_auto + (capital_expen+unexp_expense) * deprec_rate_plant\n",
    "print(total_depreciation)"
   ]
  },
  {
   "cell_type": "markdown",
   "metadata": {},
   "source": [
    "#### Труба\n",
    "| Показатель                                 | Ед. изм. |   Переменная  |\n",
    "|--------------------------------------------|----------|---------------|\n",
    "| Расстояние между компрессорными станциями  |    км    |   distance    |\n",
    "| Количество компрессорных станций           |    ед    | numb_stations |\n",
    "| *Стоимость 1 компрессорной станции*                                     |\n",
    "| -для диаметра ud[i] мм                   |   руб.   |  stations[0][i]  |\n",
    "| *Стоимость 1 км газопровода:*                                           |\n",
    "| -для диаметра ud[i] мм                   |   руб.   |  stations[1][i]  |\n",
    "| *Стоимость прокладки 1 км газопровода:*                                 |\n",
    "| -для диаметра ud[i] мм                   |   руб.   |  stations[2][i]  |\n",
    "| *Суммарные затраты на весь путь*                                        |\n",
    "| -для диаметра ud[i] мм                   |   руб.   |  total_stations[0][i]  |\n",
    "| <br>*Непредвиденные расходы*              |    <br>%     |  <br>unexp_expe            |\n",
    "| *Норма амортизации*                   |    %     |  depreciation_rate     |\n",
    "| **ВСЕГО КАПИТАЛЬНЫЕ ЗАТРАТЫ**                                             |\n",
    "| -для диаметра ud[i] мм                   |   руб.   |  total_stations[1][i]  |\n",
    "| **СУММАРНАЯ АМОРТИЗАЦИЯ В ГОД**                                           |\n",
    "| -для диаметра ud[i] мм                   |   руб.   |  total_stations[2][i]  |"
   ]
  },
  {
   "cell_type": "code",
   "execution_count": 9,
   "metadata": {},
   "outputs": [],
   "source": [
    "import math\n",
    "pipes = ['90','62','51','45','41']\n",
    "distance = 160\n",
    "numb_stations = math.ceil(max_len / 160)\n",
    "stations = [[1200000, 800000, 600000, 500000, 300000],\n",
    "    [291000, 172000, 154000, 99000, 92000],\n",
    "    [1100000, 1000000, 1000000, 1000000, 1000000]]\n",
    "#stations = [[int(input(\"Введите {}-й показатель для диаметра \".format(i+1) + pipes[j] + \" мм: \")) for j in range(5)] for i in range(3)]\n",
    "unexp_expe = 0.1\n",
    "depreciation_rate = 0.04"
   ]
  },
  {
   "cell_type": "code",
   "execution_count": 10,
   "metadata": {},
   "outputs": [
    {
     "name": "stdout",
     "output_type": "stream",
     "text": [
      "Суммарные затраты на весь путь для диаметра 90 мм: 10488900000.0\n",
      "Суммарные затраты на весь путь для диаметра 62 мм: 8827600000.0\n",
      "Суммарные затраты на весь путь для диаметра 51 мм: 8683200000.0\n",
      "Суммарные затраты на весь путь для диаметра 45 мм: 8266000000.0\n",
      "Суммарные затраты на весь путь для диаметра 41 мм: 8204100000.0\n",
      "\n",
      "Всего капитальные затраты для диаметра 90 мм: 11537790000.0\n",
      "Всего капитальные затраты для диаметра 62 мм: 9710360000.0\n",
      "Всего капитальные затраты для диаметра 51 мм: 9551520000.0\n",
      "Всего капитальные затраты для диаметра 45 мм: 9092600000.0\n",
      "Всего капитальные затраты для диаметра 41 мм: 9024510000.0\n",
      "\n",
      "Суммарная амортизация в год для диаметра 90 мм: 461511600.0\n",
      "Суммарная амортизация в год для диаметра 62 мм: 388414400.0\n",
      "Суммарная амортизация в год для диаметра 51 мм: 382060800.0\n",
      "Суммарная амортизация в год для диаметра 45 мм: 363704000.0\n",
      "Суммарная амортизация в год для диаметра 41 мм: 360980400.0\n",
      "\n"
     ]
    }
   ],
   "source": [
    "total_stations = [[],[],[]] \n",
    "for i in range(3):\n",
    "    for j in range(5):\n",
    "        if i == 0:\n",
    "            total_stations[i].append(numb_stations * stations[0][j] + max_len * (stations[1][j] + stations[2][j]))\n",
    "            print(\"Суммарные затраты на весь путь для диаметра \" + pipes[j] + \" мм: \" + str(total_stations[i][j]))\n",
    "        elif i == 1:\n",
    "            total_stations[i].append(total_stations[0][j]*(1 + unexp_expe))\n",
    "            print(\"Всего капитальные затраты для диаметра \" + pipes[j] + \" мм: \" + str(total_stations[i][j]))\n",
    "        else:\n",
    "            total_stations[i].append(total_stations[1][j]*depreciation_rate)\n",
    "            print(\"Суммарная амортизация в год для диаметра \" + pipes[j] + \" мм: \" + str(total_stations[i][j]))\n",
    "    print()"
   ]
  },
  {
   "cell_type": "markdown",
   "metadata": {},
   "source": [
    "## Операционные затраты\n",
    "#### Стоимость транспортировки\n",
    "| Показатель                    | Ед. изм. |  Переменная  |\n",
    "|-------------------------------|----------|--------------|\n",
    "| Цена АИ-95                    |   руб.   | price_petrol |\n",
    "| Тариф дальнобойщика до 100 км |   руб.   | trucker_fare |"
   ]
  },
  {
   "cell_type": "code",
   "execution_count": 11,
   "metadata": {},
   "outputs": [],
   "source": [
    "price_petrol = 38\n",
    "trucker_fare = 247.57"
   ]
  },
  {
   "cell_type": "markdown",
   "metadata": {},
   "source": [
    "| Увеличение тарифа дальнобойщика<br>за дальность доставки |   |\n",
    "|-------------------------------------------------------|-----|\n",
    "| 0 км                                                  |  0% |\n",
    "| 100 км                                                | 10% |\n",
    "| 500 км                                                | 20% |\n",
    "| 1000 км                                               | 30% |\n",
    "| 3000 км                                               | 40% |\n",
    "| >6000 км                                              | 50% |"
   ]
  },
  {
   "cell_type": "code",
   "execution_count": 12,
   "metadata": {},
   "outputs": [],
   "source": [
    "def trucker_fare_increase(km):\n",
    "    if km < 100:\n",
    "        return 0\n",
    "    elif km < 500:\n",
    "        return 0.1\n",
    "    elif km < 1000:\n",
    "        return 0.2\n",
    "    elif km < 3000:\n",
    "        return 0.3\n",
    "    elif km < 6000:\n",
    "        return 0.4\n",
    "    else:\n",
    "        return 0.5"
   ]
  },
  {
   "cell_type": "markdown",
   "metadata": {},
   "source": [
    "| Риск от дальности<br>пункта доставки |     |\n",
    "|-------------------------------------|-----|\n",
    "| 0 км                                |  5% |\n",
    "| 500 км                              |  6% |\n",
    "| 1000 км                             |  7% |\n",
    "| 1500 км                             |  8% |\n",
    "| 2000 км                             |  9% |\n",
    "| 2500 км                             | 10% |\n",
    "| 3000 км                             | 11% |\n",
    "| 3500 км                             | 12% |\n",
    "| 4000 км                             | 13% |\n",
    "| 4500 км                             | 14% |\n",
    "| 5000 км                             | 15% |\n",
    "| 5500 км                             | 16% |\n",
    "| 6000 км                             | 17% |\n",
    "| 6500 км                             | 18% |\n",
    "| 7000 км                             | 19% |\n",
    "| >7500 км                             | 20% |"
   ]
  },
  {
   "cell_type": "code",
   "execution_count": 13,
   "metadata": {},
   "outputs": [],
   "source": [
    "def risk_distance(km):\n",
    "    if km < 7500:\n",
    "        return 0.05+0.01*(km//500)\n",
    "    else:\n",
    "        return 0.2"
   ]
  },
  {
   "cell_type": "markdown",
   "metadata": {},
   "source": [
    "| Показатель                             | Ед. изм. |      Переменная      |\n",
    "|----------------------------------------|----------|----------------------|\n",
    "| Средний расход бензина                 |   л/км   |       average_disch  |\n",
    "| Максимальная грузоподъемность автомобиля | т | max_weight |\n",
    "| Стоимость проезда за максимальный путь |   руб.   |   max_length_price   |\n",
    "| Непредвиденные расходы на весь путь    |   руб.   | max_lendth_unexp_exp |\n",
    "| **ИТОГО**                              |   руб.   |  total_length_costs  |                    "
   ]
  },
  {
   "cell_type": "code",
   "execution_count": 14,
   "metadata": {},
   "outputs": [
    {
     "name": "stdout",
     "output_type": "stream",
     "text": [
      "Стоимость проезда за максмальный путь: 103338.75\n",
      "Непредвиденные расходы на весь путь: 20667.75\n",
      "ИТОГО: 124006.5\n"
     ]
    }
   ],
   "source": [
    "average_disch = 0.7\n",
    "max_weight = 19\n",
    "max_length_price = average_disch*max_len*2 + trucker_fare*wdm*whd*(1+trucker_fare_increase(max_len))\n",
    "print(\"Стоимость проезда за максмальный путь:\", max_length_price)\n",
    "max_length_unexp_exp = max_length_price* risk_distance(max_len)\n",
    "print(\"Непредвиденные расходы на весь путь:\", max_length_unexp_exp)\n",
    "total_length_costs = max_length_price + max_length_unexp_exp\n",
    "print(\"ИТОГО:\", total_length_costs)"
   ]
  },
  {
   "cell_type": "markdown",
   "metadata": {},
   "source": [
    "#### Сжижение\n",
    "| Показатель                  |  Ед. изм.  |      Переменная      |\n",
    "|-----------------------------|------------|----------------------|\n",
    "| Тариф на закупку газа       | руб./$м^3$ | gas_tariff           |\n",
    "| Стоимость закупленного газа |    руб.    | total_gas_price      |\n",
    "| Количество работников       |    чел.    | amount_workers       |\n",
    "| Средняя заработная плата    |  руб./мес. | average_wage         |\n",
    "| ФОТ                         |    руб.    | fot                  |\n",
    "| Потребление электроэнергии  |    кВтч    | power_consumption    |\n",
    "| Тариф на электроэнергию     | руб./кВтч  | electricity_tariff   |\n",
    "| Стоимость электроэнергии         |    руб.    | total_electricity    |\n",
    "| Непредвиденные расходы      |    руб.    | unexp_exp_production |\n",
    "| Себестоимость сжижения      |    руб.    | liquefaction_cost    |\n",
    "                "
   ]
  },
  {
   "cell_type": "code",
   "execution_count": 15,
   "metadata": {},
   "outputs": [
    {
     "name": "stdout",
     "output_type": "stream",
     "text": [
      "Стоимость закупленного газа: 147515287.5\n",
      "ФОТ:  14776020\n",
      "Потребление электроэнергии: 742500\n",
      "Стоимость электроэнергии: 5568750.0\n",
      "Непредвиденные расходы: 16786005.75\n",
      "Себестоимость сжижения: 184646063.25\n"
     ]
    }
   ],
   "source": [
    "gas_tariff = 4.75\n",
    "amount_workers = 21\n",
    "average_wage = 58635\n",
    "electricity_tariff = 7.5\n",
    "total_gas_price = pow_equiv_nat * gas_tariff * 1000\n",
    "print(\"Стоимость закупленного газа:\",total_gas_price)\n",
    "fot = amount_workers * average_wage * 12\n",
    "print(\"ФОТ: \",fot)\n",
    "power_consumption = lng_capac * 33\n",
    "print(\"Потребление электроэнергии:\",power_consumption)\n",
    "total_electricity = electricity_tariff * power_consumption\n",
    "print(\"Стоимость электроэнергии:\",total_electricity)\n",
    "unexp_exp_production = (fot + total_gas_price + total_electricity)*0.1\n",
    "print(\"Непредвиденные расходы:\",unexp_exp_production)\n",
    "liquefaction_cost = unexp_exp_production * 11\n",
    "print(\"Себестоимость сжижения:\",liquefaction_cost)"
   ]
  },
  {
   "cell_type": "markdown",
   "metadata": {},
   "source": [
    "#### OPEX газопровода\n",
    "| Показатель                            |    Ед. изм. | Переменная  |\n",
    "|---------------------------------------|-------------|-------------|\n",
    "| -для диаметра 90 мм                   | руб./км-год | opex_gas_pipeline[0] |\n",
    "| -для диаметра 62 мм                   | руб./км-год | opex_gas_pipeline[1] |\n",
    "| -для диаметра 51 мм                   | руб./км-год | opex_gas_pipeline[2] |\n",
    "| -для диаметра 45 мм                   | руб./км-год | opex_gas_pipeline[3] |\n",
    "| -для диаметра 41 мм                   | руб./км-год | opex_gas_pipeline[4] |\n"
   ]
  },
  {
   "cell_type": "code",
   "execution_count": 16,
   "metadata": {},
   "outputs": [],
   "source": [
    "opex_gas_pipeline = []\n",
    "opex_gas_pipeline.append(873)\n",
    "opex_gas_pipeline.append(516)\n",
    "opex_gas_pipeline.append(375)\n",
    "opex_gas_pipeline.append(297)\n",
    "opex_gas_pipeline.append(276)"
   ]
  },
  {
   "cell_type": "markdown",
   "metadata": {},
   "source": [
    "#### OPEX компрессорных станций\n",
    "| Показатель                            |    Ед. изм. | Переменная  |\n",
    "|---------------------------------------|-------------|-------------|\n",
    "| -для диаметра 90 мм                   | руб./год | opex_station[0] |\n",
    "| -для диаметра 62 мм                   | руб./год | opex_station[1] |\n",
    "| -для диаметра 51 мм                   | руб./год | opex_station[2] |\n",
    "| -для диаметра 45 мм                   | руб./год | opex_station[3] |\n",
    "| -для диаметра 41 мм                   | руб./год | opex_station[4] |"
   ]
  },
  {
   "cell_type": "code",
   "execution_count": 17,
   "metadata": {},
   "outputs": [],
   "source": [
    "opex_station = []\n",
    "opex_station.append(60000)\n",
    "opex_station.append(48000)\n",
    "opex_station.append(36000)\n",
    "opex_station.append(24000)\n",
    "opex_station.append(12000)"
   ]
  },
  {
   "cell_type": "markdown",
   "metadata": {},
   "source": [
    "#### Требуемое количество рейсов в год, чтобы отвезти весь произведенный СПГ"
   ]
  },
  {
   "cell_type": "code",
   "execution_count": 18,
   "metadata": {},
   "outputs": [
    {
     "name": "stdout",
     "output_type": "stream",
     "text": [
      "1184\n"
     ]
    }
   ],
   "source": [
    "max_number_flights = round(lng_capac/max_weight)\n",
    "print(max_number_flights)"
   ]
  },
  {
   "cell_type": "markdown",
   "metadata": {},
   "source": [
    "## График"
   ]
  },
  {
   "cell_type": "code",
   "execution_count": 19,
   "metadata": {},
   "outputs": [],
   "source": [
    "import pandas as pd\n",
    "import numpy as np\n",
    "from bokeh.io import output_notebook, show\n",
    "from bokeh.plotting import figure\n",
    "from bokeh.models import HoverTool, WheelZoomTool, PanTool, ResetTool, SaveTool, BoxSelectTool"
   ]
  },
  {
   "cell_type": "code",
   "execution_count": 20,
   "metadata": {},
   "outputs": [
    {
     "data": {
      "text/html": [
       "\n",
       "    <div class=\"bk-root\">\n",
       "        <a href=\"https://bokeh.pydata.org\" target=\"_blank\" class=\"bk-logo bk-logo-small bk-logo-notebook\"></a>\n",
       "        <span id=\"dfc0b9b7-58f5-4ce7-bbe1-64f4d4d387b1\">Loading BokehJS ...</span>\n",
       "    </div>"
      ]
     },
     "metadata": {},
     "output_type": "display_data"
    },
    {
     "data": {
      "application/javascript": [
       "\n",
       "(function(root) {\n",
       "  function now() {\n",
       "    return new Date();\n",
       "  }\n",
       "\n",
       "  var force = true;\n",
       "\n",
       "  if (typeof (root._bokeh_onload_callbacks) === \"undefined\" || force === true) {\n",
       "    root._bokeh_onload_callbacks = [];\n",
       "    root._bokeh_is_loading = undefined;\n",
       "  }\n",
       "\n",
       "  var JS_MIME_TYPE = 'application/javascript';\n",
       "  var HTML_MIME_TYPE = 'text/html';\n",
       "  var EXEC_MIME_TYPE = 'application/vnd.bokehjs_exec.v0+json';\n",
       "  var CLASS_NAME = 'output_bokeh rendered_html';\n",
       "\n",
       "  /**\n",
       "   * Render data to the DOM node\n",
       "   */\n",
       "  function render(props, node) {\n",
       "    var script = document.createElement(\"script\");\n",
       "    node.appendChild(script);\n",
       "  }\n",
       "\n",
       "  /**\n",
       "   * Handle when an output is cleared or removed\n",
       "   */\n",
       "  function handleClearOutput(event, handle) {\n",
       "    var cell = handle.cell;\n",
       "\n",
       "    var id = cell.output_area._bokeh_element_id;\n",
       "    var server_id = cell.output_area._bokeh_server_id;\n",
       "    // Clean up Bokeh references\n",
       "    if (id != null && id in Bokeh.index) {\n",
       "      Bokeh.index[id].model.document.clear();\n",
       "      delete Bokeh.index[id];\n",
       "    }\n",
       "\n",
       "    if (server_id !== undefined) {\n",
       "      // Clean up Bokeh references\n",
       "      var cmd = \"from bokeh.io.state import curstate; print(curstate().uuid_to_server['\" + server_id + \"'].get_sessions()[0].document.roots[0]._id)\";\n",
       "      cell.notebook.kernel.execute(cmd, {\n",
       "        iopub: {\n",
       "          output: function(msg) {\n",
       "            var id = msg.content.text.trim();\n",
       "            if (id in Bokeh.index) {\n",
       "              Bokeh.index[id].model.document.clear();\n",
       "              delete Bokeh.index[id];\n",
       "            }\n",
       "          }\n",
       "        }\n",
       "      });\n",
       "      // Destroy server and session\n",
       "      var cmd = \"import bokeh.io.notebook as ion; ion.destroy_server('\" + server_id + \"')\";\n",
       "      cell.notebook.kernel.execute(cmd);\n",
       "    }\n",
       "  }\n",
       "\n",
       "  /**\n",
       "   * Handle when a new output is added\n",
       "   */\n",
       "  function handleAddOutput(event, handle) {\n",
       "    var output_area = handle.output_area;\n",
       "    var output = handle.output;\n",
       "\n",
       "    // limit handleAddOutput to display_data with EXEC_MIME_TYPE content only\n",
       "    if ((output.output_type != \"display_data\") || (!output.data.hasOwnProperty(EXEC_MIME_TYPE))) {\n",
       "      return\n",
       "    }\n",
       "\n",
       "    var toinsert = output_area.element.find(\".\" + CLASS_NAME.split(' ')[0]);\n",
       "\n",
       "    if (output.metadata[EXEC_MIME_TYPE][\"id\"] !== undefined) {\n",
       "      toinsert[toinsert.length - 1].firstChild.textContent = output.data[JS_MIME_TYPE];\n",
       "      // store reference to embed id on output_area\n",
       "      output_area._bokeh_element_id = output.metadata[EXEC_MIME_TYPE][\"id\"];\n",
       "    }\n",
       "    if (output.metadata[EXEC_MIME_TYPE][\"server_id\"] !== undefined) {\n",
       "      var bk_div = document.createElement(\"div\");\n",
       "      bk_div.innerHTML = output.data[HTML_MIME_TYPE];\n",
       "      var script_attrs = bk_div.children[0].attributes;\n",
       "      for (var i = 0; i < script_attrs.length; i++) {\n",
       "        toinsert[toinsert.length - 1].firstChild.setAttribute(script_attrs[i].name, script_attrs[i].value);\n",
       "      }\n",
       "      // store reference to server id on output_area\n",
       "      output_area._bokeh_server_id = output.metadata[EXEC_MIME_TYPE][\"server_id\"];\n",
       "    }\n",
       "  }\n",
       "\n",
       "  function register_renderer(events, OutputArea) {\n",
       "\n",
       "    function append_mime(data, metadata, element) {\n",
       "      // create a DOM node to render to\n",
       "      var toinsert = this.create_output_subarea(\n",
       "        metadata,\n",
       "        CLASS_NAME,\n",
       "        EXEC_MIME_TYPE\n",
       "      );\n",
       "      this.keyboard_manager.register_events(toinsert);\n",
       "      // Render to node\n",
       "      var props = {data: data, metadata: metadata[EXEC_MIME_TYPE]};\n",
       "      render(props, toinsert[toinsert.length - 1]);\n",
       "      element.append(toinsert);\n",
       "      return toinsert\n",
       "    }\n",
       "\n",
       "    /* Handle when an output is cleared or removed */\n",
       "    events.on('clear_output.CodeCell', handleClearOutput);\n",
       "    events.on('delete.Cell', handleClearOutput);\n",
       "\n",
       "    /* Handle when a new output is added */\n",
       "    events.on('output_added.OutputArea', handleAddOutput);\n",
       "\n",
       "    /**\n",
       "     * Register the mime type and append_mime function with output_area\n",
       "     */\n",
       "    OutputArea.prototype.register_mime_type(EXEC_MIME_TYPE, append_mime, {\n",
       "      /* Is output safe? */\n",
       "      safe: true,\n",
       "      /* Index of renderer in `output_area.display_order` */\n",
       "      index: 0\n",
       "    });\n",
       "  }\n",
       "\n",
       "  // register the mime type if in Jupyter Notebook environment and previously unregistered\n",
       "  if (root.Jupyter !== undefined) {\n",
       "    var events = require('base/js/events');\n",
       "    var OutputArea = require('notebook/js/outputarea').OutputArea;\n",
       "\n",
       "    if (OutputArea.prototype.mime_types().indexOf(EXEC_MIME_TYPE) == -1) {\n",
       "      register_renderer(events, OutputArea);\n",
       "    }\n",
       "  }\n",
       "\n",
       "  \n",
       "  if (typeof (root._bokeh_timeout) === \"undefined\" || force === true) {\n",
       "    root._bokeh_timeout = Date.now() + 5000;\n",
       "    root._bokeh_failed_load = false;\n",
       "  }\n",
       "\n",
       "  var NB_LOAD_WARNING = {'data': {'text/html':\n",
       "     \"<div style='background-color: #fdd'>\\n\"+\n",
       "     \"<p>\\n\"+\n",
       "     \"BokehJS does not appear to have successfully loaded. If loading BokehJS from CDN, this \\n\"+\n",
       "     \"may be due to a slow or bad network connection. Possible fixes:\\n\"+\n",
       "     \"</p>\\n\"+\n",
       "     \"<ul>\\n\"+\n",
       "     \"<li>re-rerun `output_notebook()` to attempt to load from CDN again, or</li>\\n\"+\n",
       "     \"<li>use INLINE resources instead, as so:</li>\\n\"+\n",
       "     \"</ul>\\n\"+\n",
       "     \"<code>\\n\"+\n",
       "     \"from bokeh.resources import INLINE\\n\"+\n",
       "     \"output_notebook(resources=INLINE)\\n\"+\n",
       "     \"</code>\\n\"+\n",
       "     \"</div>\"}};\n",
       "\n",
       "  function display_loaded() {\n",
       "    var el = document.getElementById(\"dfc0b9b7-58f5-4ce7-bbe1-64f4d4d387b1\");\n",
       "    if (el != null) {\n",
       "      el.textContent = \"BokehJS is loading...\";\n",
       "    }\n",
       "    if (root.Bokeh !== undefined) {\n",
       "      if (el != null) {\n",
       "        el.textContent = \"BokehJS \" + root.Bokeh.version + \" successfully loaded.\";\n",
       "      }\n",
       "    } else if (Date.now() < root._bokeh_timeout) {\n",
       "      setTimeout(display_loaded, 100)\n",
       "    }\n",
       "  }\n",
       "\n",
       "\n",
       "  function run_callbacks() {\n",
       "    try {\n",
       "      root._bokeh_onload_callbacks.forEach(function(callback) { callback() });\n",
       "    }\n",
       "    finally {\n",
       "      delete root._bokeh_onload_callbacks\n",
       "    }\n",
       "    console.info(\"Bokeh: all callbacks have finished\");\n",
       "  }\n",
       "\n",
       "  function load_libs(js_urls, callback) {\n",
       "    root._bokeh_onload_callbacks.push(callback);\n",
       "    if (root._bokeh_is_loading > 0) {\n",
       "      console.log(\"Bokeh: BokehJS is being loaded, scheduling callback at\", now());\n",
       "      return null;\n",
       "    }\n",
       "    if (js_urls == null || js_urls.length === 0) {\n",
       "      run_callbacks();\n",
       "      return null;\n",
       "    }\n",
       "    console.log(\"Bokeh: BokehJS not loaded, scheduling load and callback at\", now());\n",
       "    root._bokeh_is_loading = js_urls.length;\n",
       "    for (var i = 0; i < js_urls.length; i++) {\n",
       "      var url = js_urls[i];\n",
       "      var s = document.createElement('script');\n",
       "      s.src = url;\n",
       "      s.async = false;\n",
       "      s.onreadystatechange = s.onload = function() {\n",
       "        root._bokeh_is_loading--;\n",
       "        if (root._bokeh_is_loading === 0) {\n",
       "          console.log(\"Bokeh: all BokehJS libraries loaded\");\n",
       "          run_callbacks()\n",
       "        }\n",
       "      };\n",
       "      s.onerror = function() {\n",
       "        console.warn(\"failed to load library \" + url);\n",
       "      };\n",
       "      console.log(\"Bokeh: injecting script tag for BokehJS library: \", url);\n",
       "      document.getElementsByTagName(\"head\")[0].appendChild(s);\n",
       "    }\n",
       "  };var element = document.getElementById(\"dfc0b9b7-58f5-4ce7-bbe1-64f4d4d387b1\");\n",
       "  if (element == null) {\n",
       "    console.log(\"Bokeh: ERROR: autoload.js configured with elementid 'dfc0b9b7-58f5-4ce7-bbe1-64f4d4d387b1' but no matching script tag was found. \")\n",
       "    return false;\n",
       "  }\n",
       "\n",
       "  var js_urls = [\"https://cdn.pydata.org/bokeh/release/bokeh-0.13.0.min.js\", \"https://cdn.pydata.org/bokeh/release/bokeh-widgets-0.13.0.min.js\", \"https://cdn.pydata.org/bokeh/release/bokeh-tables-0.13.0.min.js\", \"https://cdn.pydata.org/bokeh/release/bokeh-gl-0.13.0.min.js\"];\n",
       "\n",
       "  var inline_js = [\n",
       "    function(Bokeh) {\n",
       "      Bokeh.set_log_level(\"info\");\n",
       "    },\n",
       "    \n",
       "    function(Bokeh) {\n",
       "      \n",
       "    },\n",
       "    function(Bokeh) {\n",
       "      console.log(\"Bokeh: injecting CSS: https://cdn.pydata.org/bokeh/release/bokeh-0.13.0.min.css\");\n",
       "      Bokeh.embed.inject_css(\"https://cdn.pydata.org/bokeh/release/bokeh-0.13.0.min.css\");\n",
       "      console.log(\"Bokeh: injecting CSS: https://cdn.pydata.org/bokeh/release/bokeh-widgets-0.13.0.min.css\");\n",
       "      Bokeh.embed.inject_css(\"https://cdn.pydata.org/bokeh/release/bokeh-widgets-0.13.0.min.css\");\n",
       "      console.log(\"Bokeh: injecting CSS: https://cdn.pydata.org/bokeh/release/bokeh-tables-0.13.0.min.css\");\n",
       "      Bokeh.embed.inject_css(\"https://cdn.pydata.org/bokeh/release/bokeh-tables-0.13.0.min.css\");\n",
       "    }\n",
       "  ];\n",
       "\n",
       "  function run_inline_js() {\n",
       "    \n",
       "    if ((root.Bokeh !== undefined) || (force === true)) {\n",
       "      for (var i = 0; i < inline_js.length; i++) {\n",
       "        inline_js[i].call(root, root.Bokeh);\n",
       "      }if (force === true) {\n",
       "        display_loaded();\n",
       "      }} else if (Date.now() < root._bokeh_timeout) {\n",
       "      setTimeout(run_inline_js, 100);\n",
       "    } else if (!root._bokeh_failed_load) {\n",
       "      console.log(\"Bokeh: BokehJS failed to load within specified timeout.\");\n",
       "      root._bokeh_failed_load = true;\n",
       "    } else if (force !== true) {\n",
       "      var cell = $(document.getElementById(\"dfc0b9b7-58f5-4ce7-bbe1-64f4d4d387b1\")).parents('.cell').data().cell;\n",
       "      cell.output_area.append_execute_result(NB_LOAD_WARNING)\n",
       "    }\n",
       "\n",
       "  }\n",
       "\n",
       "  if (root._bokeh_is_loading === 0) {\n",
       "    console.log(\"Bokeh: BokehJS loaded, going straight to plotting\");\n",
       "    run_inline_js();\n",
       "  } else {\n",
       "    load_libs(js_urls, function() {\n",
       "      console.log(\"Bokeh: BokehJS plotting callback run at\", now());\n",
       "      run_inline_js();\n",
       "    });\n",
       "  }\n",
       "}(window));"
      ],
      "application/vnd.bokehjs_load.v0+json": "\n(function(root) {\n  function now() {\n    return new Date();\n  }\n\n  var force = true;\n\n  if (typeof (root._bokeh_onload_callbacks) === \"undefined\" || force === true) {\n    root._bokeh_onload_callbacks = [];\n    root._bokeh_is_loading = undefined;\n  }\n\n  \n\n  \n  if (typeof (root._bokeh_timeout) === \"undefined\" || force === true) {\n    root._bokeh_timeout = Date.now() + 5000;\n    root._bokeh_failed_load = false;\n  }\n\n  var NB_LOAD_WARNING = {'data': {'text/html':\n     \"<div style='background-color: #fdd'>\\n\"+\n     \"<p>\\n\"+\n     \"BokehJS does not appear to have successfully loaded. If loading BokehJS from CDN, this \\n\"+\n     \"may be due to a slow or bad network connection. Possible fixes:\\n\"+\n     \"</p>\\n\"+\n     \"<ul>\\n\"+\n     \"<li>re-rerun `output_notebook()` to attempt to load from CDN again, or</li>\\n\"+\n     \"<li>use INLINE resources instead, as so:</li>\\n\"+\n     \"</ul>\\n\"+\n     \"<code>\\n\"+\n     \"from bokeh.resources import INLINE\\n\"+\n     \"output_notebook(resources=INLINE)\\n\"+\n     \"</code>\\n\"+\n     \"</div>\"}};\n\n  function display_loaded() {\n    var el = document.getElementById(\"dfc0b9b7-58f5-4ce7-bbe1-64f4d4d387b1\");\n    if (el != null) {\n      el.textContent = \"BokehJS is loading...\";\n    }\n    if (root.Bokeh !== undefined) {\n      if (el != null) {\n        el.textContent = \"BokehJS \" + root.Bokeh.version + \" successfully loaded.\";\n      }\n    } else if (Date.now() < root._bokeh_timeout) {\n      setTimeout(display_loaded, 100)\n    }\n  }\n\n\n  function run_callbacks() {\n    try {\n      root._bokeh_onload_callbacks.forEach(function(callback) { callback() });\n    }\n    finally {\n      delete root._bokeh_onload_callbacks\n    }\n    console.info(\"Bokeh: all callbacks have finished\");\n  }\n\n  function load_libs(js_urls, callback) {\n    root._bokeh_onload_callbacks.push(callback);\n    if (root._bokeh_is_loading > 0) {\n      console.log(\"Bokeh: BokehJS is being loaded, scheduling callback at\", now());\n      return null;\n    }\n    if (js_urls == null || js_urls.length === 0) {\n      run_callbacks();\n      return null;\n    }\n    console.log(\"Bokeh: BokehJS not loaded, scheduling load and callback at\", now());\n    root._bokeh_is_loading = js_urls.length;\n    for (var i = 0; i < js_urls.length; i++) {\n      var url = js_urls[i];\n      var s = document.createElement('script');\n      s.src = url;\n      s.async = false;\n      s.onreadystatechange = s.onload = function() {\n        root._bokeh_is_loading--;\n        if (root._bokeh_is_loading === 0) {\n          console.log(\"Bokeh: all BokehJS libraries loaded\");\n          run_callbacks()\n        }\n      };\n      s.onerror = function() {\n        console.warn(\"failed to load library \" + url);\n      };\n      console.log(\"Bokeh: injecting script tag for BokehJS library: \", url);\n      document.getElementsByTagName(\"head\")[0].appendChild(s);\n    }\n  };var element = document.getElementById(\"dfc0b9b7-58f5-4ce7-bbe1-64f4d4d387b1\");\n  if (element == null) {\n    console.log(\"Bokeh: ERROR: autoload.js configured with elementid 'dfc0b9b7-58f5-4ce7-bbe1-64f4d4d387b1' but no matching script tag was found. \")\n    return false;\n  }\n\n  var js_urls = [\"https://cdn.pydata.org/bokeh/release/bokeh-0.13.0.min.js\", \"https://cdn.pydata.org/bokeh/release/bokeh-widgets-0.13.0.min.js\", \"https://cdn.pydata.org/bokeh/release/bokeh-tables-0.13.0.min.js\", \"https://cdn.pydata.org/bokeh/release/bokeh-gl-0.13.0.min.js\"];\n\n  var inline_js = [\n    function(Bokeh) {\n      Bokeh.set_log_level(\"info\");\n    },\n    \n    function(Bokeh) {\n      \n    },\n    function(Bokeh) {\n      console.log(\"Bokeh: injecting CSS: https://cdn.pydata.org/bokeh/release/bokeh-0.13.0.min.css\");\n      Bokeh.embed.inject_css(\"https://cdn.pydata.org/bokeh/release/bokeh-0.13.0.min.css\");\n      console.log(\"Bokeh: injecting CSS: https://cdn.pydata.org/bokeh/release/bokeh-widgets-0.13.0.min.css\");\n      Bokeh.embed.inject_css(\"https://cdn.pydata.org/bokeh/release/bokeh-widgets-0.13.0.min.css\");\n      console.log(\"Bokeh: injecting CSS: https://cdn.pydata.org/bokeh/release/bokeh-tables-0.13.0.min.css\");\n      Bokeh.embed.inject_css(\"https://cdn.pydata.org/bokeh/release/bokeh-tables-0.13.0.min.css\");\n    }\n  ];\n\n  function run_inline_js() {\n    \n    if ((root.Bokeh !== undefined) || (force === true)) {\n      for (var i = 0; i < inline_js.length; i++) {\n        inline_js[i].call(root, root.Bokeh);\n      }if (force === true) {\n        display_loaded();\n      }} else if (Date.now() < root._bokeh_timeout) {\n      setTimeout(run_inline_js, 100);\n    } else if (!root._bokeh_failed_load) {\n      console.log(\"Bokeh: BokehJS failed to load within specified timeout.\");\n      root._bokeh_failed_load = true;\n    } else if (force !== true) {\n      var cell = $(document.getElementById(\"dfc0b9b7-58f5-4ce7-bbe1-64f4d4d387b1\")).parents('.cell').data().cell;\n      cell.output_area.append_execute_result(NB_LOAD_WARNING)\n    }\n\n  }\n\n  if (root._bokeh_is_loading === 0) {\n    console.log(\"Bokeh: BokehJS loaded, going straight to plotting\");\n    run_inline_js();\n  } else {\n    load_libs(js_urls, function() {\n      console.log(\"Bokeh: BokehJS plotting callback run at\", now());\n      run_inline_js();\n    });\n  }\n}(window));"
     },
     "metadata": {},
     "output_type": "display_data"
    }
   ],
   "source": [
    "output_notebook()"
   ]
  },
  {
   "cell_type": "code",
   "execution_count": 21,
   "metadata": {},
   "outputs": [],
   "source": [
    "n = int((max_len+9)//10+1)\n",
    "\n",
    "index = [i*10 for i in range(n)]\n",
    "index[0] = 1\n",
    "cols = ['Минимальное количество машин по производительности','Количество поездок на 1 машину',\n",
    "        'Затраты на топливо','Затраты на оплату водителей','Операционные затраты за год на транспорт',\n",
    "        'Непредвиденные расходы за год на транспорт','Суммарные ОПЕКС за год на транспорт',\n",
    "        'Амортизация автотранспорта','Суммарные затраты на транспортировку в год',\n",
    "        'Удельные затраты на транспортировку 1 т СПГ','Удельные затраты на транспортировку в пересчете на природный газ, за 1 м3',\n",
    "        'Амортизация завода на 1 м3 газа','Операционные затраты завода на 1 м3 газа',\n",
    "        'Итого. Совокупные удельные затраты на 1 т СПГ','LNG converted to natural gas',\n",
    "        'Опекс газопровода 1', 'Опекс всех КС 1', 'Стоимость всех КС 1', 'Стоимость труб + прокладка 1','Pipeline 1 direction',\n",
    "        'Опекс газопровода 2', 'Опекс всех КС 2', 'Стоимость всех КС 2', 'Стоимость труб + прокладка 2','Pipeline 2 direction',\n",
    "        'Опекс газопровода 3', 'Опекс всех КС 3', 'Стоимость всех КС 3', 'Стоимость труб + прокладка 3','Pipeline 3 direction',\n",
    "        'Опекс газопровода 4', 'Опекс всех КС 4', 'Стоимость всех КС 4', 'Стоимость труб + прокладка 4','Pipeline 4 direction',\n",
    "        'Опекс газопровода 5', 'Опекс всех КС 5', 'Стоимость всех КС 5', 'Стоимость труб + прокладка 5','Pipeline 5 direction']\n",
    "df = pd.DataFrame(columns = cols, index = index)"
   ]
  },
  {
   "cell_type": "code",
   "execution_count": 51,
   "metadata": {
    "scrolled": false
   },
   "outputs": [
    {
     "data": {
      "text/html": [
       "<div>\n",
       "<style scoped>\n",
       "    .dataframe tbody tr th:only-of-type {\n",
       "        vertical-align: middle;\n",
       "    }\n",
       "\n",
       "    .dataframe tbody tr th {\n",
       "        vertical-align: top;\n",
       "    }\n",
       "\n",
       "    .dataframe thead th {\n",
       "        text-align: right;\n",
       "    }\n",
       "</style>\n",
       "<table border=\"1\" class=\"dataframe\">\n",
       "  <thead>\n",
       "    <tr style=\"text-align: right;\">\n",
       "      <th></th>\n",
       "      <th>Минимальное количество машин по производительности</th>\n",
       "      <th>Количество поездок на 1 машину</th>\n",
       "      <th>Затраты на топливо</th>\n",
       "      <th>Затраты на оплату водителей</th>\n",
       "      <th>Операционные затраты за год на транспорт</th>\n",
       "      <th>Непредвиденные расходы за год на транспорт</th>\n",
       "      <th>Суммарные ОПЕКС за год на транспорт</th>\n",
       "      <th>Амортизация автотранспорта</th>\n",
       "      <th>Суммарные затраты на транспортировку в год</th>\n",
       "      <th>Удельные затраты на транспортировку 1 т СПГ</th>\n",
       "      <th>...</th>\n",
       "      <th>Опекс газопровода 4</th>\n",
       "      <th>Опекс всех КС 4</th>\n",
       "      <th>Стоимость всех КС 4</th>\n",
       "      <th>Стоимость труб + прокладка 4</th>\n",
       "      <th>Pipeline 4 direction</th>\n",
       "      <th>Опекс газопровода 5</th>\n",
       "      <th>Опекс всех КС 5</th>\n",
       "      <th>Стоимость всех КС 5</th>\n",
       "      <th>Стоимость труб + прокладка 5</th>\n",
       "      <th>Pipeline 5 direction</th>\n",
       "    </tr>\n",
       "  </thead>\n",
       "  <tbody>\n",
       "    <tr>\n",
       "      <th>1</th>\n",
       "      <td>1.0</td>\n",
       "      <td>1184.0</td>\n",
       "      <td>62988.8</td>\n",
       "      <td>742710.0</td>\n",
       "      <td>805698.8</td>\n",
       "      <td>40284.94</td>\n",
       "      <td>845983.74</td>\n",
       "      <td>2600000.0</td>\n",
       "      <td>3445983.74</td>\n",
       "      <td>153.154833</td>\n",
       "      <td>...</td>\n",
       "      <td>326.7</td>\n",
       "      <td>26400.0</td>\n",
       "      <td>550000.0</td>\n",
       "      <td>4835600.0</td>\n",
       "      <td>4.757797</td>\n",
       "      <td>303.6</td>\n",
       "      <td>13200.0</td>\n",
       "      <td>330000.0</td>\n",
       "      <td>6006000.0</td>\n",
       "      <td>4.758596</td>\n",
       "    </tr>\n",
       "    <tr>\n",
       "      <th>10</th>\n",
       "      <td>1.0</td>\n",
       "      <td>1184.0</td>\n",
       "      <td>629888.0</td>\n",
       "      <td>742710.0</td>\n",
       "      <td>1372598.0</td>\n",
       "      <td>68629.90</td>\n",
       "      <td>1441227.90</td>\n",
       "      <td>2600000.0</td>\n",
       "      <td>4041227.90</td>\n",
       "      <td>179.610129</td>\n",
       "      <td>...</td>\n",
       "      <td>3267.0</td>\n",
       "      <td>26400.0</td>\n",
       "      <td>550000.0</td>\n",
       "      <td>48356000.0</td>\n",
       "      <td>4.813946</td>\n",
       "      <td>3036.0</td>\n",
       "      <td>13200.0</td>\n",
       "      <td>330000.0</td>\n",
       "      <td>60060000.0</td>\n",
       "      <td>4.828305</td>\n",
       "    </tr>\n",
       "    <tr>\n",
       "      <th>20</th>\n",
       "      <td>1.0</td>\n",
       "      <td>1184.0</td>\n",
       "      <td>1259776.0</td>\n",
       "      <td>742710.0</td>\n",
       "      <td>2002486.0</td>\n",
       "      <td>100124.30</td>\n",
       "      <td>2102610.30</td>\n",
       "      <td>2600000.0</td>\n",
       "      <td>4702610.30</td>\n",
       "      <td>209.004902</td>\n",
       "      <td>...</td>\n",
       "      <td>6534.0</td>\n",
       "      <td>26400.0</td>\n",
       "      <td>550000.0</td>\n",
       "      <td>96712000.0</td>\n",
       "      <td>4.876334</td>\n",
       "      <td>6072.0</td>\n",
       "      <td>13200.0</td>\n",
       "      <td>330000.0</td>\n",
       "      <td>120120000.0</td>\n",
       "      <td>4.905760</td>\n",
       "    </tr>\n",
       "    <tr>\n",
       "      <th>30</th>\n",
       "      <td>1.0</td>\n",
       "      <td>1184.0</td>\n",
       "      <td>1889664.0</td>\n",
       "      <td>742710.0</td>\n",
       "      <td>2632374.0</td>\n",
       "      <td>131618.70</td>\n",
       "      <td>2763992.70</td>\n",
       "      <td>2600000.0</td>\n",
       "      <td>5363992.70</td>\n",
       "      <td>238.399676</td>\n",
       "      <td>...</td>\n",
       "      <td>9801.0</td>\n",
       "      <td>26400.0</td>\n",
       "      <td>550000.0</td>\n",
       "      <td>145068000.0</td>\n",
       "      <td>4.938722</td>\n",
       "      <td>9108.0</td>\n",
       "      <td>13200.0</td>\n",
       "      <td>330000.0</td>\n",
       "      <td>180180000.0</td>\n",
       "      <td>4.983216</td>\n",
       "    </tr>\n",
       "    <tr>\n",
       "      <th>40</th>\n",
       "      <td>1.0</td>\n",
       "      <td>1184.0</td>\n",
       "      <td>2519552.0</td>\n",
       "      <td>742710.0</td>\n",
       "      <td>3262262.0</td>\n",
       "      <td>163113.10</td>\n",
       "      <td>3425375.10</td>\n",
       "      <td>2600000.0</td>\n",
       "      <td>6025375.10</td>\n",
       "      <td>267.794449</td>\n",
       "      <td>...</td>\n",
       "      <td>13068.0</td>\n",
       "      <td>26400.0</td>\n",
       "      <td>550000.0</td>\n",
       "      <td>193424000.0</td>\n",
       "      <td>5.001110</td>\n",
       "      <td>12144.0</td>\n",
       "      <td>26400.0</td>\n",
       "      <td>660000.0</td>\n",
       "      <td>240240000.0</td>\n",
       "      <td>5.061521</td>\n",
       "    </tr>\n",
       "  </tbody>\n",
       "</table>\n",
       "<p>5 rows × 40 columns</p>\n",
       "</div>"
      ],
      "text/plain": [
       "    Минимальное количество машин по производительности  \\\n",
       "1                                                 1.0    \n",
       "10                                                1.0    \n",
       "20                                                1.0    \n",
       "30                                                1.0    \n",
       "40                                                1.0    \n",
       "\n",
       "    Количество поездок на 1 машину  Затраты на топливо  \\\n",
       "1                           1184.0             62988.8   \n",
       "10                          1184.0            629888.0   \n",
       "20                          1184.0           1259776.0   \n",
       "30                          1184.0           1889664.0   \n",
       "40                          1184.0           2519552.0   \n",
       "\n",
       "    Затраты на оплату водителей  Операционные затраты за год на транспорт  \\\n",
       "1                      742710.0                                  805698.8   \n",
       "10                     742710.0                                 1372598.0   \n",
       "20                     742710.0                                 2002486.0   \n",
       "30                     742710.0                                 2632374.0   \n",
       "40                     742710.0                                 3262262.0   \n",
       "\n",
       "    Непредвиденные расходы за год на транспорт  \\\n",
       "1                                     40284.94   \n",
       "10                                    68629.90   \n",
       "20                                   100124.30   \n",
       "30                                   131618.70   \n",
       "40                                   163113.10   \n",
       "\n",
       "    Суммарные ОПЕКС за год на транспорт  Амортизация автотранспорта  \\\n",
       "1                             845983.74                   2600000.0   \n",
       "10                           1441227.90                   2600000.0   \n",
       "20                           2102610.30                   2600000.0   \n",
       "30                           2763992.70                   2600000.0   \n",
       "40                           3425375.10                   2600000.0   \n",
       "\n",
       "    Суммарные затраты на транспортировку в год  \\\n",
       "1                                   3445983.74   \n",
       "10                                  4041227.90   \n",
       "20                                  4702610.30   \n",
       "30                                  5363992.70   \n",
       "40                                  6025375.10   \n",
       "\n",
       "    Удельные затраты на транспортировку 1 т СПГ          ...           \\\n",
       "1                                    153.154833          ...            \n",
       "10                                   179.610129          ...            \n",
       "20                                   209.004902          ...            \n",
       "30                                   238.399676          ...            \n",
       "40                                   267.794449          ...            \n",
       "\n",
       "    Опекс газопровода 4  Опекс всех КС 4  Стоимость всех КС 4  \\\n",
       "1                 326.7          26400.0             550000.0   \n",
       "10               3267.0          26400.0             550000.0   \n",
       "20               6534.0          26400.0             550000.0   \n",
       "30               9801.0          26400.0             550000.0   \n",
       "40              13068.0          26400.0             550000.0   \n",
       "\n",
       "    Стоимость труб + прокладка 4  Pipeline 4 direction  Опекс газопровода 5  \\\n",
       "1                      4835600.0              4.757797                303.6   \n",
       "10                    48356000.0              4.813946               3036.0   \n",
       "20                    96712000.0              4.876334               6072.0   \n",
       "30                   145068000.0              4.938722               9108.0   \n",
       "40                   193424000.0              5.001110              12144.0   \n",
       "\n",
       "    Опекс всех КС 5  Стоимость всех КС 5  Стоимость труб + прокладка 5  \\\n",
       "1           13200.0             330000.0                     6006000.0   \n",
       "10          13200.0             330000.0                    60060000.0   \n",
       "20          13200.0             330000.0                   120120000.0   \n",
       "30          13200.0             330000.0                   180180000.0   \n",
       "40          26400.0             660000.0                   240240000.0   \n",
       "\n",
       "    Pipeline 5 direction  \n",
       "1               4.758596  \n",
       "10              4.828305  \n",
       "20              4.905760  \n",
       "30              4.983216  \n",
       "40              5.061521  \n",
       "\n",
       "[5 rows x 40 columns]"
      ]
     },
     "execution_count": 51,
     "metadata": {},
     "output_type": "execute_result"
    }
   ],
   "source": [
    "vect_trucker_fare_increase = np.vectorize(trucker_fare_increase,otypes=[np.float64])\n",
    "vect_risk_distance = np.vectorize(risk_distance, otypes=[np.float64])\n",
    "\n",
    "index = np.array(index, np.int32)\n",
    "\n",
    "t = np.ceil(index * 2 * max_number_flights/(avs * wdm * whd * 12))\n",
    "df['Минимальное количество машин по производительности'] = (pd.Series(t)).values\n",
    "\n",
    "t1 = np.ceil(max_number_flights/t)\n",
    "df['Количество поездок на 1 машину'] = (pd.Series(t1)).values\n",
    "\n",
    "t2 = 2*index*t*t1*price_petrol*average_disch\n",
    "df['Затраты на топливо'] = (pd.Series(t2)).values\n",
    "\n",
    "t3 = t*wdm*whd*trucker_fare*(1+vect_trucker_fare_increase(index))*12\n",
    "df['Затраты на оплату водителей'] = (pd.Series(t3)).values\n",
    "\n",
    "t4 = t2+t3\n",
    "df['Операционные затраты за год на транспорт'] = (pd.Series(t4)).values\n",
    "\n",
    "t5 = t4 * vect_risk_distance(index)\n",
    "df['Непредвиденные расходы за год на транспорт'] = (pd.Series(t5)).values\n",
    "\n",
    "t6 = t4+t5\n",
    "df['Суммарные ОПЕКС за год на транспорт']= (pd.Series(t6)).values\n",
    "\n",
    "t7 = deprec_rate_auto * price_per_trail * t\n",
    "df['Амортизация автотранспорта']= (pd.Series(t7)).values\n",
    "\n",
    "t8 = t7 + t6\n",
    "df['Суммарные затраты на транспортировку в год'] = (pd.Series(t8)).values\n",
    "\n",
    "t9 = t8/lng_capac\n",
    "df['Удельные затраты на транспортировку 1 т СПГ'] = (pd.Series(t9)).values\n",
    "\n",
    "t10 = t8/(1000*pow_equiv_nat)\n",
    "df['Удельные затраты на транспортировку в пересчете на природный газ, за 1 м3'] = (pd.Series(t10)).values\n",
    "\n",
    "t11 = (unexp_expense + capital_expen) * deprec_rate_plant/1000/pow_equiv_nat\n",
    "df['Амортизация завода на 1 м3 газа'] = t11\n",
    "\n",
    "t12 = liquefaction_cost/1000/pow_equiv_nat\n",
    "df['Операционные затраты завода на 1 м3 газа'] = t12\n",
    "\n",
    "t13 = t9 + (capital_expen+unexp_expense)*deprec_rate_plant/lng_capac + liquefaction_cost/lng_capac\n",
    "df['Итого. Совокупные удельные затраты на 1 т СПГ'] = (pd.Series(t13)).values\n",
    "\n",
    "t14 = t11 + t12 + t10\n",
    "df['LNG converted to natural gas'] = (pd.Series(t14)).values\n",
    "\n",
    "for i in range(5):\n",
    "    p1 = index*opex_gas_pipeline[i]*1.1\n",
    "    df['Опекс газопровода '+str(i+1)] = (pd.Series(p1)).values\n",
    "    p2 = opex_station[i]*np.ceil(index*(i+1)/distance)*1.1\n",
    "    df['Опекс всех КС '+str(i+1)] = (pd.Series(p2)).values\n",
    "    p3 = np.ceil(index*(i+1)/distance)*stations[0][i]*(1+unexp_expe)\n",
    "    df['Стоимость всех КС '+str(i+1)] = (pd.Series(p3)).values\n",
    "    p4 = (i+1)*index*(1+unexp_expe)*(stations[1][i]+stations[2][i])\n",
    "    df['Стоимость труб + прокладка '+str(i+1)] = (pd.Series(p4)).values\n",
    "    p5 = (p1+p2+(p3+p4)*depreciation_rate)/(pow_equiv_nat*1000)+gas_tariff\n",
    "    df['Pipeline '+str(i+1)+' direction'] = (pd.Series(p5)).values\n",
    "    \n",
    "df.head()"
   ]
  },
  {
   "cell_type": "code",
   "execution_count": 53,
   "metadata": {},
   "outputs": [
    {
     "data": {
      "text/html": [
       "\n",
       "\n",
       "\n",
       "\n",
       "\n",
       "\n",
       "  <div class=\"bk-root\" id=\"9da9db4b-811f-4076-ae25-64013c56f1d2\"></div>\n"
      ]
     },
     "metadata": {},
     "output_type": "display_data"
    },
    {
     "data": {
      "application/javascript": [
       "(function(root) {\n",
       "  function embed_document(root) {\n",
       "    \n",
       "  var docs_json = {\"b8f7e067-4b16-4b91-bff8-bcbb35e52425\":{\"roots\":{\"references\":[{\"attributes\":{\"data_source\":{\"id\":\"a7d8f4ff-11e0-484d-a3a4-0ad99eeb78e1\",\"type\":\"ColumnDataSource\"},\"glyph\":{\"id\":\"94f32fa7-7e65-41b6-8710-72e5625ee161\",\"type\":\"Line\"},\"hover_glyph\":null,\"muted_glyph\":{\"id\":\"40506f78-e289-477d-ba06-3cd3854dca8d\",\"type\":\"Line\"},\"nonselection_glyph\":{\"id\":\"3f71737c-ebb4-4cad-8bbe-f48ae3c4f669\",\"type\":\"Line\"},\"selection_glyph\":null,\"view\":{\"id\":\"ed40f26e-0e11-4e97-ac30-f10e45e8eb41\",\"type\":\"CDSView\"}},\"id\":\"8edd08aa-4a9e-4935-8ce3-0069cca4995b\",\"type\":\"GlyphRenderer\"},{\"attributes\":{},\"id\":\"6c818421-5bdb-47fe-b272-e3d02dafc4dc\",\"type\":\"Selection\"},{\"attributes\":{\"line_alpha\":0.2,\"line_color\":\"firebrick\",\"line_width\":2,\"x\":{\"field\":\"x\"},\"y\":{\"field\":\"y\"}},\"id\":\"40506f78-e289-477d-ba06-3cd3854dca8d\",\"type\":\"Line\"},{\"attributes\":{\"line_width\":2,\"x\":{\"field\":\"x\"},\"y\":{\"field\":\"y\"}},\"id\":\"94f32fa7-7e65-41b6-8710-72e5625ee161\",\"type\":\"Line\"},{\"attributes\":{\"align\":\"center\",\"plot\":null,\"text\":\"Results of gas price modeling\",\"text_font_size\":{\"value\":\"25px\"}},\"id\":\"cbeb5e90-e34b-4ade-86e9-6c64af9e2878\",\"type\":\"Title\"},{\"attributes\":{},\"id\":\"11bb8faf-7c81-4e2f-a0b7-fbb06cfe1abe\",\"type\":\"UnionRenderers\"},{\"attributes\":{},\"id\":\"9b16a60d-1d4f-40af-8c42-96052d7a13bb\",\"type\":\"Selection\"},{\"attributes\":{},\"id\":\"0b0eff9f-a342-4c5c-952a-4000d36273d1\",\"type\":\"BasicTicker\"},{\"attributes\":{\"plot\":{\"id\":\"d7d669b4-8db9-498b-a984-07fb4ae18742\",\"subtype\":\"Figure\",\"type\":\"Plot\"},\"ticker\":{\"id\":\"0b0eff9f-a342-4c5c-952a-4000d36273d1\",\"type\":\"BasicTicker\"}},\"id\":\"989702df-7e4f-4e78-a8fa-aee2284fbd8b\",\"type\":\"Grid\"},{\"attributes\":{\"source\":{\"id\":\"ffee49f5-e07c-4f7f-8784-0f6633e4c470\",\"type\":\"ColumnDataSource\"}},\"id\":\"bbadbe41-e77a-42e5-a127-86affb25c8a0\",\"type\":\"CDSView\"},{\"attributes\":{\"axis_label\":\"Distance,km\",\"formatter\":{\"id\":\"d52cdb56-87b1-44df-82eb-2054215a6c89\",\"type\":\"BasicTickFormatter\"},\"plot\":{\"id\":\"d7d669b4-8db9-498b-a984-07fb4ae18742\",\"subtype\":\"Figure\",\"type\":\"Plot\"},\"ticker\":{\"id\":\"0b0eff9f-a342-4c5c-952a-4000d36273d1\",\"type\":\"BasicTicker\"}},\"id\":\"679bf0da-ed59-4e68-afd4-169adcaf3572\",\"type\":\"LinearAxis\"},{\"attributes\":{},\"id\":\"c23439c8-35df-4e66-9f85-bbd09e45e7dc\",\"type\":\"LinearScale\"},{\"attributes\":{},\"id\":\"968c8040-0b66-445e-bb02-4a889300a323\",\"type\":\"BasicTicker\"},{\"attributes\":{},\"id\":\"c56edfe9-cb7e-4eb6-a352-4b8fe4ff8b2d\",\"type\":\"UnionRenderers\"},{\"attributes\":{\"source\":{\"id\":\"a7d8f4ff-11e0-484d-a3a4-0ad99eeb78e1\",\"type\":\"ColumnDataSource\"}},\"id\":\"ed40f26e-0e11-4e97-ac30-f10e45e8eb41\",\"type\":\"CDSView\"},{\"attributes\":{\"callback\":null,\"data\":{\"x\":[1,10,20,30,40,50,60,70,80,90,100,110,120,130,140,150,160,170,180,190,200,210,220,230,240,250,260,270,280,290,300,310,320,330,340,350,360,370,380,390,400,410,420,430,440,450,460,470,480,490,500,510,520,530,540,550,560,570,580,590,600,610,620,630,640,650,660,670,680,690,700,710,720,730,740,750,760,770,780,790,800,810,820,830,840,850,860,870,880,890,900,910,920,930,940,950,960,970,980,990,1000,1010,1020,1030,1040,1050,1060,1070,1080,1090,1100,1110,1120,1130,1140,1150,1160,1170,1180,1190,1200,1210,1220,1230,1240,1250,1260,1270,1280,1290,1300,1310,1320,1330,1340,1350,1360,1370,1380,1390,1400,1410,1420,1430,1440,1450,1460,1470,1480,1490,1500,1510,1520,1530,1540,1550,1560,1570,1580,1590,1600,1610,1620,1630,1640,1650,1660,1670,1680,1690,1700,1710,1720,1730,1740,1750,1760,1770,1780,1790,1800,1810,1820,1830,1840,1850,1860,1870,1880,1890,1900,1910,1920,1930,1940,1950,1960,1970,1980,1990,2000,2010,2020,2030,2040,2050,2060,2070,2080,2090,2100,2110,2120,2130,2140,2150,2160,2170,2180,2190,2200,2210,2220,2230,2240,2250,2260,2270,2280,2290,2300,2310,2320,2330,2340,2350,2360,2370,2380,2390,2400,2410,2420,2430,2440,2450,2460,2470,2480,2490,2500,2510,2520,2530,2540,2550,2560,2570,2580,2590,2600,2610,2620,2630,2640,2650,2660,2670,2680,2690,2700,2710,2720,2730,2740,2750,2760,2770,2780,2790,2800,2810,2820,2830,2840,2850,2860,2870,2880,2890,2900,2910,2920,2930,2940,2950,2960,2970,2980,2990,3000,3010,3020,3030,3040,3050,3060,3070,3080,3090,3100,3110,3120,3130,3140,3150,3160,3170,3180,3190,3200,3210,3220,3230,3240,3250,3260,3270,3280,3290,3300,3310,3320,3330,3340,3350,3360,3370,3380,3390,3400,3410,3420,3430,3440,3450,3460,3470,3480,3490,3500,3510,3520,3530,3540,3550,3560,3570,3580,3590,3600,3610,3620,3630,3640,3650,3660,3670,3680,3690,3700,3710,3720,3730,3740,3750,3760,3770,3780,3790,3800,3810,3820,3830,3840,3850,3860,3870,3880,3890,3900,3910,3920,3930,3940,3950,3960,3970,3980,3990,4000,4010,4020,4030,4040,4050,4060,4070,4080,4090,4100,4110,4120,4130,4140,4150,4160,4170,4180,4190,4200,4210,4220,4230,4240,4250,4260,4270,4280,4290,4300,4310,4320,4330,4340,4350,4360,4370,4380,4390,4400,4410,4420,4430,4440,4450,4460,4470,4480,4490,4500,4510,4520,4530,4540,4550,4560,4570,4580,4590,4600,4610,4620,4630,4640,4650,4660,4670,4680,4690,4700,4710,4720,4730,4740,4750,4760,4770,4780,4790,4800,4810,4820,4830,4840,4850,4860,4870,4880,4890,4900,4910,4920,4930,4940,4950,4960,4970,4980,4990,5000,5010,5020,5030,5040,5050,5060,5070,5080,5090,5100,5110,5120,5130,5140,5150,5160,5170,5180,5190,5200,5210,5220,5230,5240,5250,5260,5270,5280,5290,5300,5310,5320,5330,5340,5350,5360,5370,5380,5390,5400,5410,5420,5430,5440,5450,5460,5470,5480,5490,5500,5510,5520,5530,5540,5550,5560,5570,5580,5590,5600,5610,5620,5630,5640,5650,5660,5670,5680,5690,5700,5710,5720,5730,5740,5750,5760,5770,5780,5790,5800,5810,5820,5830,5840,5850,5860,5870,5880,5890,5900,5910,5920,5930,5940,5950,5960,5970,5980,5990,6000,6010,6020,6030,6040,6050,6060,6070,6080,6090,6100,6110,6120,6130,6140,6150,6160,6170,6180,6190,6200,6210,6220,6230,6240,6250,6260,6270,6280,6290,6300,6310,6320,6330,6340,6350,6360,6370,6380,6390,6400,6410,6420,6430,6440,6450,6460,6470,6480,6490,6500,6510,6520,6530,6540,6550,6560,6570,6580,6590,6600,6610,6620,6630,6640,6650,6660,6670,6680,6690,6700,6710,6720,6730,6740,6750,6760,6770,6780,6790,6800,6810,6820,6830,6840,6850,6860,6870,6880,6890,6900,6910,6920,6930,6940,6950,6960,6970,6980,6990,7000,7010,7020,7030,7040,7050,7060,7070,7080,7090,7100,7110,7120,7130,7140,7150,7160,7170,7180,7190,7200,7210,7220,7230,7240,7250,7260,7270,7280,7290,7300,7310,7320,7330,7340,7350,7360,7370,7380,7390,7400,7410,7420,7430,7440,7450,7460,7470,7480,7490,7500],\"y\":{\"__ndarray__\":\"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\",\"dtype\":\"float64\",\"shape\":[751]}},\"selected\":{\"id\":\"9b16a60d-1d4f-40af-8c42-96052d7a13bb\",\"type\":\"Selection\"},\"selection_policy\":{\"id\":\"a0df6953-82c0-4427-bc8b-edf3d77ec978\",\"type\":\"UnionRenderers\"}},\"id\":\"9cdd780e-eeb2-4e20-b65e-1dce8d136a91\",\"type\":\"ColumnDataSource\"},{\"attributes\":{\"source\":{\"id\":\"9cdd780e-eeb2-4e20-b65e-1dce8d136a91\",\"type\":\"ColumnDataSource\"}},\"id\":\"4546ebf1-458b-43b9-ace6-eaa1ff5c1958\",\"type\":\"CDSView\"},{\"attributes\":{\"line_color\":\"yellow\",\"x\":{\"field\":\"x\"},\"y\":{\"field\":\"y\"}},\"id\":\"47653a79-5d8d-4c9d-8892-4290dcba6514\",\"type\":\"Line\"},{\"attributes\":{\"label\":{\"value\":\"Pipeline 5 direction\"},\"renderers\":[{\"id\":\"d2e3e357-0819-4dc6-b17f-97afad11eafa\",\"type\":\"GlyphRenderer\"}]},\"id\":\"06035a46-5642-44f5-8fc7-2c60bcedad6c\",\"type\":\"LegendItem\"},{\"attributes\":{\"line_alpha\":0.1,\"line_color\":\"#1f77b4\",\"x\":{\"field\":\"x\"},\"y\":{\"field\":\"y\"}},\"id\":\"332e150f-bcb2-450b-96be-f1b66355510c\",\"type\":\"Line\"},{\"attributes\":{\"data_source\":{\"id\":\"ffee49f5-e07c-4f7f-8784-0f6633e4c470\",\"type\":\"ColumnDataSource\"},\"glyph\":{\"id\":\"95221d8b-b92b-459e-8caf-baffda8309b5\",\"type\":\"Line\"},\"hover_glyph\":null,\"muted_glyph\":{\"id\":\"8ec50800-31c8-4f95-9776-1baf5eea6d28\",\"type\":\"Line\"},\"nonselection_glyph\":{\"id\":\"eb046bd7-95cd-4207-a485-e305561deb0a\",\"type\":\"Line\"},\"selection_glyph\":null,\"view\":{\"id\":\"bbadbe41-e77a-42e5-a127-86affb25c8a0\",\"type\":\"CDSView\"}},\"id\":\"d2e3e357-0819-4dc6-b17f-97afad11eafa\",\"type\":\"GlyphRenderer\"},{\"attributes\":{\"label\":{\"value\":\"LNG converted to natural gas\"},\"renderers\":[{\"id\":\"8edd08aa-4a9e-4935-8ce3-0069cca4995b\",\"type\":\"GlyphRenderer\"}]},\"id\":\"9e83f537-673a-46dd-8d1d-b1d6b295f84d\",\"type\":\"LegendItem\"},{\"attributes\":{\"line_alpha\":0.2,\"line_color\":\"blue\",\"x\":{\"field\":\"x\"},\"y\":{\"field\":\"y\"}},\"id\":\"8ec50800-31c8-4f95-9776-1baf5eea6d28\",\"type\":\"Line\"},{\"attributes\":{\"line_alpha\":0.1,\"line_color\":\"#1f77b4\",\"x\":{\"field\":\"x\"},\"y\":{\"field\":\"y\"}},\"id\":\"1fa34d84-c2ee-43eb-8545-17bf87bf038d\",\"type\":\"Line\"},{\"attributes\":{},\"id\":\"e2a8efff-70e8-4870-b6e6-8bd02d704ecc\",\"type\":\"Selection\"},{\"attributes\":{\"line_alpha\":0.1,\"line_color\":\"#1f77b4\",\"x\":{\"field\":\"x\"},\"y\":{\"field\":\"y\"}},\"id\":\"a41c4563-4bcf-41c1-b60c-5249fc3768bd\",\"type\":\"Line\"},{\"attributes\":{\"below\":[{\"id\":\"679bf0da-ed59-4e68-afd4-169adcaf3572\",\"type\":\"LinearAxis\"}],\"left\":[{\"id\":\"45dc6cd5-be91-40f8-a395-15dec9ca7b2e\",\"type\":\"LinearAxis\"}],\"plot_height\":500,\"plot_width\":950,\"renderers\":[{\"id\":\"679bf0da-ed59-4e68-afd4-169adcaf3572\",\"type\":\"LinearAxis\"},{\"id\":\"989702df-7e4f-4e78-a8fa-aee2284fbd8b\",\"type\":\"Grid\"},{\"id\":\"45dc6cd5-be91-40f8-a395-15dec9ca7b2e\",\"type\":\"LinearAxis\"},{\"id\":\"548becb6-a1b4-44e8-9443-59e0c51616df\",\"type\":\"Grid\"},{\"id\":\"ec371641-6b82-4756-bc07-92153d287416\",\"type\":\"Legend\"},{\"id\":\"8edd08aa-4a9e-4935-8ce3-0069cca4995b\",\"type\":\"GlyphRenderer\"},{\"id\":\"eada326d-6cf3-46f1-963c-d70234be82eb\",\"type\":\"GlyphRenderer\"},{\"id\":\"d1de4087-4637-4375-94c9-bb4c46262613\",\"type\":\"GlyphRenderer\"},{\"id\":\"6d591a5b-c109-4f87-b4af-7463044c763f\",\"type\":\"GlyphRenderer\"},{\"id\":\"7b9689c0-8636-4015-90cb-f7094f91ee99\",\"type\":\"GlyphRenderer\"},{\"id\":\"d2e3e357-0819-4dc6-b17f-97afad11eafa\",\"type\":\"GlyphRenderer\"}],\"title\":{\"id\":\"cbeb5e90-e34b-4ade-86e9-6c64af9e2878\",\"type\":\"Title\"},\"toolbar\":{\"id\":\"d0d4b111-042d-4400-9f19-0136db09a516\",\"type\":\"Toolbar\"},\"x_range\":{\"id\":\"814b3489-175e-4264-a73c-d056751ef89c\",\"type\":\"DataRange1d\"},\"x_scale\":{\"id\":\"510a7fd7-38bb-472a-a309-e967b39cbfa7\",\"type\":\"LinearScale\"},\"y_range\":{\"id\":\"bb3494b4-50f7-46e0-ac8c-d72efe22c639\",\"type\":\"DataRange1d\"},\"y_scale\":{\"id\":\"c23439c8-35df-4e66-9f85-bbd09e45e7dc\",\"type\":\"LinearScale\"}},\"id\":\"d7d669b4-8db9-498b-a984-07fb4ae18742\",\"subtype\":\"Figure\",\"type\":\"Plot\"},{\"attributes\":{\"line_alpha\":0.2,\"line_color\":\"green\",\"x\":{\"field\":\"x\"},\"y\":{\"field\":\"y\"}},\"id\":\"3eb7f95d-af04-4469-942d-db4f5a0463e8\",\"type\":\"Line\"},{\"attributes\":{\"source\":{\"id\":\"056c6592-5eb0-4d88-a705-b5742ffbc822\",\"type\":\"ColumnDataSource\"}},\"id\":\"57708716-45f8-40f4-bc43-c90dc81d403b\",\"type\":\"CDSView\"},{\"attributes\":{\"line_alpha\":0.2,\"line_color\":\"orange\",\"x\":{\"field\":\"x\"},\"y\":{\"field\":\"y\"}},\"id\":\"b14fe569-337f-4ac2-bafe-e577a48ef7a6\",\"type\":\"Line\"},{\"attributes\":{\"click_policy\":\"mute\",\"items\":[{\"id\":\"9e83f537-673a-46dd-8d1d-b1d6b295f84d\",\"type\":\"LegendItem\"},{\"id\":\"2d70d973-2b28-4d28-a2cc-97f3abc49e1a\",\"type\":\"LegendItem\"},{\"id\":\"2cc0e9cd-2f26-4135-89d0-92784b283d38\",\"type\":\"LegendItem\"},{\"id\":\"45083799-9c3a-455d-8feb-66a47eccb6ca\",\"type\":\"LegendItem\"},{\"id\":\"dd078eb5-4354-4ec4-94b1-12b1bbbff15d\",\"type\":\"LegendItem\"},{\"id\":\"06035a46-5642-44f5-8fc7-2c60bcedad6c\",\"type\":\"LegendItem\"}],\"location\":\"top_left\",\"plot\":{\"id\":\"d7d669b4-8db9-498b-a984-07fb4ae18742\",\"subtype\":\"Figure\",\"type\":\"Plot\"}},\"id\":\"ec371641-6b82-4756-bc07-92153d287416\",\"type\":\"Legend\"},{\"attributes\":{\"callback\":null,\"data\":{\"x\":[1,10,20,30,40,50,60,70,80,90,100,110,120,130,140,150,160,170,180,190,200,210,220,230,240,250,260,270,280,290,300,310,320,330,340,350,360,370,380,390,400,410,420,430,440,450,460,470,480,490,500,510,520,530,540,550,560,570,580,590,600,610,620,630,640,650,660,670,680,690,700,710,720,730,740,750,760,770,780,790,800,810,820,830,840,850,860,870,880,890,900,910,920,930,940,950,960,970,980,990,1000,1010,1020,1030,1040,1050,1060,1070,1080,1090,1100,1110,1120,1130,1140,1150,1160,1170,1180,1190,1200,1210,1220,1230,1240,1250,1260,1270,1280,1290,1300,1310,1320,1330,1340,1350,1360,1370,1380,1390,1400,1410,1420,1430,1440,1450,1460,1470,1480,1490,1500,1510,1520,1530,1540,1550,1560,1570,1580,1590,1600,1610,1620,1630,1640,1650,1660,1670,1680,1690,1700,1710,1720,1730,1740,1750,1760,1770,1780,1790,1800,1810,1820,1830,1840,1850,1860,1870,1880,1890,1900,1910,1920,1930,1940,1950,1960,1970,1980,1990,2000,2010,2020,2030,2040,2050,2060,2070,2080,2090,2100,2110,2120,2130,2140,2150,2160,2170,2180,2190,2200,2210,2220,2230,2240,2250,2260,2270,2280,2290,2300,2310,2320,2330,2340,2350,2360,2370,2380,2390,2400,2410,2420,2430,2440,2450,2460,2470,2480,2490,2500,2510,2520,2530,2540,2550,2560,2570,2580,2590,2600,2610,2620,2630,2640,2650,2660,2670,2680,2690,2700,2710,2720,2730,2740,2750,2760,2770,2780,2790,2800,2810,2820,2830,2840,2850,2860,2870,2880,2890,2900,2910,2920,2930,2940,2950,2960,2970,2980,2990,3000,3010,3020,3030,3040,3050,3060,3070,3080,3090,3100,3110,3120,3130,3140,3150,3160,3170,3180,3190,3200,3210,3220,3230,3240,3250,3260,3270,3280,3290,3300,3310,3320,3330,3340,3350,3360,3370,3380,3390,3400,3410,3420,3430,3440,3450,3460,3470,3480,3490,3500,3510,3520,3530,3540,3550,3560,3570,3580,3590,3600,3610,3620,3630,3640,3650,3660,3670,3680,3690,3700,3710,3720,3730,3740,3750,3760,3770,3780,3790,3800,3810,3820,3830,3840,3850,3860,3870,3880,3890,3900,3910,3920,3930,3940,3950,3960,3970,3980,3990,4000,4010,4020,4030,4040,4050,4060,4070,4080,4090,4100,4110,4120,4130,4140,4150,4160,4170,4180,4190,4200,4210,4220,4230,4240,4250,4260,4270,4280,4290,4300,4310,4320,4330,4340,4350,4360,4370,4380,4390,4400,4410,4420,4430,4440,4450,4460,4470,4480,4490,4500,4510,4520,4530,4540,4550,4560,4570,4580,4590,4600,4610,4620,4630,4640,4650,4660,4670,4680,4690,4700,4710,4720,4730,4740,4750,4760,4770,4780,4790,4800,4810,4820,4830,4840,4850,4860,4870,4880,4890,4900,4910,4920,4930,4940,4950,4960,4970,4980,4990,5000,5010,5020,5030,5040,5050,5060,5070,5080,5090,5100,5110,5120,5130,5140,5150,5160,5170,5180,5190,5200,5210,5220,5230,5240,5250,5260,5270,5280,5290,5300,5310,5320,5330,5340,5350,5360,5370,5380,5390,5400,5410,5420,5430,5440,5450,5460,5470,5480,5490,5500,5510,5520,5530,5540,5550,5560,5570,5580,5590,5600,5610,5620,5630,5640,5650,5660,5670,5680,5690,5700,5710,5720,5730,5740,5750,5760,5770,5780,5790,5800,5810,5820,5830,5840,5850,5860,5870,5880,5890,5900,5910,5920,5930,5940,5950,5960,5970,5980,5990,6000,6010,6020,6030,6040,6050,6060,6070,6080,6090,6100,6110,6120,6130,6140,6150,6160,6170,6180,6190,6200,6210,6220,6230,6240,6250,6260,6270,6280,6290,6300,6310,6320,6330,6340,6350,6360,6370,6380,6390,6400,6410,6420,6430,6440,6450,6460,6470,6480,6490,6500,6510,6520,6530,6540,6550,6560,6570,6580,6590,6600,6610,6620,6630,6640,6650,6660,6670,6680,6690,6700,6710,6720,6730,6740,6750,6760,6770,6780,6790,6800,6810,6820,6830,6840,6850,6860,6870,6880,6890,6900,6910,6920,6930,6940,6950,6960,6970,6980,6990,7000,7010,7020,7030,7040,7050,7060,7070,7080,7090,7100,7110,7120,7130,7140,7150,7160,7170,7180,7190,7200,7210,7220,7230,7240,7250,7260,7270,7280,7290,7300,7310,7320,7330,7340,7350,7360,7370,7380,7390,7400,7410,7420,7430,7440,7450,7460,7470,7480,7490,7500],\"y\":{\"__ndarray__\":\"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\",\"dtype\":\"float64\",\"shape\":[751]}},\"selected\":{\"id\":\"b8f988dc-a926-4372-8fa3-035eb908d23f\",\"type\":\"Selection\"},\"selection_policy\":{\"id\":\"732f4d37-5f30-4c52-a0c9-cc1314762196\",\"type\":\"UnionRenderers\"}},\"id\":\"6397b65a-58cb-4f38-ba67-d3a616ebad2b\",\"type\":\"ColumnDataSource\"},{\"attributes\":{\"line_color\":\"blue\",\"x\":{\"field\":\"x\"},\"y\":{\"field\":\"y\"}},\"id\":\"95221d8b-b92b-459e-8caf-baffda8309b5\",\"type\":\"Line\"},{\"attributes\":{\"line_alpha\":0.1,\"line_color\":\"#1f77b4\",\"x\":{\"field\":\"x\"},\"y\":{\"field\":\"y\"}},\"id\":\"eb046bd7-95cd-4207-a485-e305561deb0a\",\"type\":\"Line\"},{\"attributes\":{\"line_alpha\":0.2,\"line_color\":\"purple\",\"x\":{\"field\":\"x\"},\"y\":{\"field\":\"y\"}},\"id\":\"2aae4320-bd9c-4f4e-989a-d8998f6f259c\",\"type\":\"Line\"},{\"attributes\":{\"line_color\":\"purple\",\"x\":{\"field\":\"x\"},\"y\":{\"field\":\"y\"}},\"id\":\"745bdfbd-cb53-49ce-808f-bdb6641d460d\",\"type\":\"Line\"},{\"attributes\":{},\"id\":\"d3c46a09-1e09-4864-ab1f-44bb6594c8c2\",\"type\":\"Selection\"},{\"attributes\":{\"label\":{\"value\":\"Pipeline 4 direction\"},\"renderers\":[{\"id\":\"7b9689c0-8636-4015-90cb-f7094f91ee99\",\"type\":\"GlyphRenderer\"}]},\"id\":\"dd078eb5-4354-4ec4-94b1-12b1bbbff15d\",\"type\":\"LegendItem\"},{\"attributes\":{\"callback\":null},\"id\":\"bb3494b4-50f7-46e0-ac8c-d72efe22c639\",\"type\":\"DataRange1d\"},{\"attributes\":{},\"id\":\"732f4d37-5f30-4c52-a0c9-cc1314762196\",\"type\":\"UnionRenderers\"},{\"attributes\":{},\"id\":\"04ac8777-daeb-4f21-b5c4-3ab20c89f627\",\"type\":\"BasicTickFormatter\"},{\"attributes\":{},\"id\":\"db585650-8522-4655-a0a0-8f0e1604e238\",\"type\":\"SaveTool\"},{\"attributes\":{\"axis_label\":\"Price, RUB/m3\",\"formatter\":{\"id\":\"04ac8777-daeb-4f21-b5c4-3ab20c89f627\",\"type\":\"BasicTickFormatter\"},\"plot\":{\"id\":\"d7d669b4-8db9-498b-a984-07fb4ae18742\",\"subtype\":\"Figure\",\"type\":\"Plot\"},\"ticker\":{\"id\":\"968c8040-0b66-445e-bb02-4a889300a323\",\"type\":\"BasicTicker\"}},\"id\":\"45dc6cd5-be91-40f8-a395-15dec9ca7b2e\",\"type\":\"LinearAxis\"},{\"attributes\":{\"callback\":null,\"renderers\":\"auto\",\"tooltips\":[[\"Price\",\"$y\"],[\"Distance\",\"$x\"]]},\"id\":\"ce573496-355c-409c-b958-ca343e42c180\",\"type\":\"HoverTool\"},{\"attributes\":{\"data_source\":{\"id\":\"cdd11141-974c-4d7b-9333-185920ddd18d\",\"type\":\"ColumnDataSource\"},\"glyph\":{\"id\":\"4b5f00d8-a146-4a22-b7a3-8e6aa631dbc5\",\"type\":\"Line\"},\"hover_glyph\":null,\"muted_glyph\":{\"id\":\"b14fe569-337f-4ac2-bafe-e577a48ef7a6\",\"type\":\"Line\"},\"nonselection_glyph\":{\"id\":\"a41c4563-4bcf-41c1-b60c-5249fc3768bd\",\"type\":\"Line\"},\"selection_glyph\":null,\"view\":{\"id\":\"781ee97a-b797-4118-8faa-ee83eaf5a6ac\",\"type\":\"CDSView\"}},\"id\":\"7b9689c0-8636-4015-90cb-f7094f91ee99\",\"type\":\"GlyphRenderer\"},{\"attributes\":{\"dimension\":1,\"plot\":{\"id\":\"d7d669b4-8db9-498b-a984-07fb4ae18742\",\"subtype\":\"Figure\",\"type\":\"Plot\"},\"ticker\":{\"id\":\"968c8040-0b66-445e-bb02-4a889300a323\",\"type\":\"BasicTicker\"}},\"id\":\"548becb6-a1b4-44e8-9443-59e0c51616df\",\"type\":\"Grid\"},{\"attributes\":{\"callback\":null,\"data\":{\"x\":[1,10,20,30,40,50,60,70,80,90,100,110,120,130,140,150,160,170,180,190,200,210,220,230,240,250,260,270,280,290,300,310,320,330,340,350,360,370,380,390,400,410,420,430,440,450,460,470,480,490,500,510,520,530,540,550,560,570,580,590,600,610,620,630,640,650,660,670,680,690,700,710,720,730,740,750,760,770,780,790,800,810,820,830,840,850,860,870,880,890,900,910,920,930,940,950,960,970,980,990,1000,1010,1020,1030,1040,1050,1060,1070,1080,1090,1100,1110,1120,1130,1140,1150,1160,1170,1180,1190,1200,1210,1220,1230,1240,1250,1260,1270,1280,1290,1300,1310,1320,1330,1340,1350,1360,1370,1380,1390,1400,1410,1420,1430,1440,1450,1460,1470,1480,1490,1500,1510,1520,1530,1540,1550,1560,1570,1580,1590,1600,1610,1620,1630,1640,1650,1660,1670,1680,1690,1700,1710,1720,1730,1740,1750,1760,1770,1780,1790,1800,1810,1820,1830,1840,1850,1860,1870,1880,1890,1900,1910,1920,1930,1940,1950,1960,1970,1980,1990,2000,2010,2020,2030,2040,2050,2060,2070,2080,2090,2100,2110,2120,2130,2140,2150,2160,2170,2180,2190,2200,2210,2220,2230,2240,2250,2260,2270,2280,2290,2300,2310,2320,2330,2340,2350,2360,2370,2380,2390,2400,2410,2420,2430,2440,2450,2460,2470,2480,2490,2500,2510,2520,2530,2540,2550,2560,2570,2580,2590,2600,2610,2620,2630,2640,2650,2660,2670,2680,2690,2700,2710,2720,2730,2740,2750,2760,2770,2780,2790,2800,2810,2820,2830,2840,2850,2860,2870,2880,2890,2900,2910,2920,2930,2940,2950,2960,2970,2980,2990,3000,3010,3020,3030,3040,3050,3060,3070,3080,3090,3100,3110,3120,3130,3140,3150,3160,3170,3180,3190,3200,3210,3220,3230,3240,3250,3260,3270,3280,3290,3300,3310,3320,3330,3340,3350,3360,3370,3380,3390,3400,3410,3420,3430,3440,3450,3460,3470,3480,3490,3500,3510,3520,3530,3540,3550,3560,3570,3580,3590,3600,3610,3620,3630,3640,3650,3660,3670,3680,3690,3700,3710,3720,3730,3740,3750,3760,3770,3780,3790,3800,3810,3820,3830,3840,3850,3860,3870,3880,3890,3900,3910,3920,3930,3940,3950,3960,3970,3980,3990,4000,4010,4020,4030,4040,4050,4060,4070,4080,4090,4100,4110,4120,4130,4140,4150,4160,4170,4180,4190,4200,4210,4220,4230,4240,4250,4260,4270,4280,4290,4300,4310,4320,4330,4340,4350,4360,4370,4380,4390,4400,4410,4420,4430,4440,4450,4460,4470,4480,4490,4500,4510,4520,4530,4540,4550,4560,4570,4580,4590,4600,4610,4620,4630,4640,4650,4660,4670,4680,4690,4700,4710,4720,4730,4740,4750,4760,4770,4780,4790,4800,4810,4820,4830,4840,4850,4860,4870,4880,4890,4900,4910,4920,4930,4940,4950,4960,4970,4980,4990,5000,5010,5020,5030,5040,5050,5060,5070,5080,5090,5100,5110,5120,5130,5140,5150,5160,5170,5180,5190,5200,5210,5220,5230,5240,5250,5260,5270,5280,5290,5300,5310,5320,5330,5340,5350,5360,5370,5380,5390,5400,5410,5420,5430,5440,5450,5460,5470,5480,5490,5500,5510,5520,5530,5540,5550,5560,5570,5580,5590,5600,5610,5620,5630,5640,5650,5660,5670,5680,5690,5700,5710,5720,5730,5740,5750,5760,5770,5780,5790,5800,5810,5820,5830,5840,5850,5860,5870,5880,5890,5900,5910,5920,5930,5940,5950,5960,5970,5980,5990,6000,6010,6020,6030,6040,6050,6060,6070,6080,6090,6100,6110,6120,6130,6140,6150,6160,6170,6180,6190,6200,6210,6220,6230,6240,6250,6260,6270,6280,6290,6300,6310,6320,6330,6340,6350,6360,6370,6380,6390,6400,6410,6420,6430,6440,6450,6460,6470,6480,6490,6500,6510,6520,6530,6540,6550,6560,6570,6580,6590,6600,6610,6620,6630,6640,6650,6660,6670,6680,6690,6700,6710,6720,6730,6740,6750,6760,6770,6780,6790,6800,6810,6820,6830,6840,6850,6860,6870,6880,6890,6900,6910,6920,6930,6940,6950,6960,6970,6980,6990,7000,7010,7020,7030,7040,7050,7060,7070,7080,7090,7100,7110,7120,7130,7140,7150,7160,7170,7180,7190,7200,7210,7220,7230,7240,7250,7260,7270,7280,7290,7300,7310,7320,7330,7340,7350,7360,7370,7380,7390,7400,7410,7420,7430,7440,7450,7460,7470,7480,7490,7500],\"y\":{\"__ndarray__\":\"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\",\"dtype\":\"float64\",\"shape\":[751]}},\"selected\":{\"id\":\"6c818421-5bdb-47fe-b272-e3d02dafc4dc\",\"type\":\"Selection\"},\"selection_policy\":{\"id\":\"11bb8faf-7c81-4e2f-a0b7-fbb06cfe1abe\",\"type\":\"UnionRenderers\"}},\"id\":\"ffee49f5-e07c-4f7f-8784-0f6633e4c470\",\"type\":\"ColumnDataSource\"},{\"attributes\":{\"line_alpha\":0.1,\"line_color\":\"#1f77b4\",\"x\":{\"field\":\"x\"},\"y\":{\"field\":\"y\"}},\"id\":\"69832bac-892a-4b01-91f5-9bb0411b9c92\",\"type\":\"Line\"},{\"attributes\":{\"source\":{\"id\":\"cdd11141-974c-4d7b-9333-185920ddd18d\",\"type\":\"ColumnDataSource\"}},\"id\":\"781ee97a-b797-4118-8faa-ee83eaf5a6ac\",\"type\":\"CDSView\"},{\"attributes\":{},\"id\":\"b8f988dc-a926-4372-8fa3-035eb908d23f\",\"type\":\"Selection\"},{\"attributes\":{\"data_source\":{\"id\":\"9cdd780e-eeb2-4e20-b65e-1dce8d136a91\",\"type\":\"ColumnDataSource\"},\"glyph\":{\"id\":\"745bdfbd-cb53-49ce-808f-bdb6641d460d\",\"type\":\"Line\"},\"hover_glyph\":null,\"muted_glyph\":{\"id\":\"2aae4320-bd9c-4f4e-989a-d8998f6f259c\",\"type\":\"Line\"},\"nonselection_glyph\":{\"id\":\"69832bac-892a-4b01-91f5-9bb0411b9c92\",\"type\":\"Line\"},\"selection_glyph\":null,\"view\":{\"id\":\"4546ebf1-458b-43b9-ace6-eaa1ff5c1958\",\"type\":\"CDSView\"}},\"id\":\"eada326d-6cf3-46f1-963c-d70234be82eb\",\"type\":\"GlyphRenderer\"},{\"attributes\":{},\"id\":\"d52cdb56-87b1-44df-82eb-2054215a6c89\",\"type\":\"BasicTickFormatter\"},{\"attributes\":{\"data_source\":{\"id\":\"6397b65a-58cb-4f38-ba67-d3a616ebad2b\",\"type\":\"ColumnDataSource\"},\"glyph\":{\"id\":\"89878ace-e189-4414-acf4-3633bc4492e3\",\"type\":\"Line\"},\"hover_glyph\":null,\"muted_glyph\":{\"id\":\"3eb7f95d-af04-4469-942d-db4f5a0463e8\",\"type\":\"Line\"},\"nonselection_glyph\":{\"id\":\"1fa34d84-c2ee-43eb-8545-17bf87bf038d\",\"type\":\"Line\"},\"selection_glyph\":null,\"view\":{\"id\":\"4d82053e-587f-4bab-9284-50906524e998\",\"type\":\"CDSView\"}},\"id\":\"6d591a5b-c109-4f87-b4af-7463044c763f\",\"type\":\"GlyphRenderer\"},{\"attributes\":{\"callback\":null,\"data\":{\"x\":[1,10,20,30,40,50,60,70,80,90,100,110,120,130,140,150,160,170,180,190,200,210,220,230,240,250,260,270,280,290,300,310,320,330,340,350,360,370,380,390,400,410,420,430,440,450,460,470,480,490,500,510,520,530,540,550,560,570,580,590,600,610,620,630,640,650,660,670,680,690,700,710,720,730,740,750,760,770,780,790,800,810,820,830,840,850,860,870,880,890,900,910,920,930,940,950,960,970,980,990,1000,1010,1020,1030,1040,1050,1060,1070,1080,1090,1100,1110,1120,1130,1140,1150,1160,1170,1180,1190,1200,1210,1220,1230,1240,1250,1260,1270,1280,1290,1300,1310,1320,1330,1340,1350,1360,1370,1380,1390,1400,1410,1420,1430,1440,1450,1460,1470,1480,1490,1500,1510,1520,1530,1540,1550,1560,1570,1580,1590,1600,1610,1620,1630,1640,1650,1660,1670,1680,1690,1700,1710,1720,1730,1740,1750,1760,1770,1780,1790,1800,1810,1820,1830,1840,1850,1860,1870,1880,1890,1900,1910,1920,1930,1940,1950,1960,1970,1980,1990,2000,2010,2020,2030,2040,2050,2060,2070,2080,2090,2100,2110,2120,2130,2140,2150,2160,2170,2180,2190,2200,2210,2220,2230,2240,2250,2260,2270,2280,2290,2300,2310,2320,2330,2340,2350,2360,2370,2380,2390,2400,2410,2420,2430,2440,2450,2460,2470,2480,2490,2500,2510,2520,2530,2540,2550,2560,2570,2580,2590,2600,2610,2620,2630,2640,2650,2660,2670,2680,2690,2700,2710,2720,2730,2740,2750,2760,2770,2780,2790,2800,2810,2820,2830,2840,2850,2860,2870,2880,2890,2900,2910,2920,2930,2940,2950,2960,2970,2980,2990,3000,3010,3020,3030,3040,3050,3060,3070,3080,3090,3100,3110,3120,3130,3140,3150,3160,3170,3180,3190,3200,3210,3220,3230,3240,3250,3260,3270,3280,3290,3300,3310,3320,3330,3340,3350,3360,3370,3380,3390,3400,3410,3420,3430,3440,3450,3460,3470,3480,3490,3500,3510,3520,3530,3540,3550,3560,3570,3580,3590,3600,3610,3620,3630,3640,3650,3660,3670,3680,3690,3700,3710,3720,3730,3740,3750,3760,3770,3780,3790,3800,3810,3820,3830,3840,3850,3860,3870,3880,3890,3900,3910,3920,3930,3940,3950,3960,3970,3980,3990,4000,4010,4020,4030,4040,4050,4060,4070,4080,4090,4100,4110,4120,4130,4140,4150,4160,4170,4180,4190,4200,4210,4220,4230,4240,4250,4260,4270,4280,4290,4300,4310,4320,4330,4340,4350,4360,4370,4380,4390,4400,4410,4420,4430,4440,4450,4460,4470,4480,4490,4500,4510,4520,4530,4540,4550,4560,4570,4580,4590,4600,4610,4620,4630,4640,4650,4660,4670,4680,4690,4700,4710,4720,4730,4740,4750,4760,4770,4780,4790,4800,4810,4820,4830,4840,4850,4860,4870,4880,4890,4900,4910,4920,4930,4940,4950,4960,4970,4980,4990,5000,5010,5020,5030,5040,5050,5060,5070,5080,5090,5100,5110,5120,5130,5140,5150,5160,5170,5180,5190,5200,5210,5220,5230,5240,5250,5260,5270,5280,5290,5300,5310,5320,5330,5340,5350,5360,5370,5380,5390,5400,5410,5420,5430,5440,5450,5460,5470,5480,5490,5500,5510,5520,5530,5540,5550,5560,5570,5580,5590,5600,5610,5620,5630,5640,5650,5660,5670,5680,5690,5700,5710,5720,5730,5740,5750,5760,5770,5780,5790,5800,5810,5820,5830,5840,5850,5860,5870,5880,5890,5900,5910,5920,5930,5940,5950,5960,5970,5980,5990,6000,6010,6020,6030,6040,6050,6060,6070,6080,6090,6100,6110,6120,6130,6140,6150,6160,6170,6180,6190,6200,6210,6220,6230,6240,6250,6260,6270,6280,6290,6300,6310,6320,6330,6340,6350,6360,6370,6380,6390,6400,6410,6420,6430,6440,6450,6460,6470,6480,6490,6500,6510,6520,6530,6540,6550,6560,6570,6580,6590,6600,6610,6620,6630,6640,6650,6660,6670,6680,6690,6700,6710,6720,6730,6740,6750,6760,6770,6780,6790,6800,6810,6820,6830,6840,6850,6860,6870,6880,6890,6900,6910,6920,6930,6940,6950,6960,6970,6980,6990,7000,7010,7020,7030,7040,7050,7060,7070,7080,7090,7100,7110,7120,7130,7140,7150,7160,7170,7180,7190,7200,7210,7220,7230,7240,7250,7260,7270,7280,7290,7300,7310,7320,7330,7340,7350,7360,7370,7380,7390,7400,7410,7420,7430,7440,7450,7460,7470,7480,7490,7500],\"y\":{\"__ndarray__\":\"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\",\"dtype\":\"float64\",\"shape\":[751]}},\"selected\":{\"id\":\"d3c46a09-1e09-4864-ab1f-44bb6594c8c2\",\"type\":\"Selection\"},\"selection_policy\":{\"id\":\"a6231b2a-906e-4ee5-adcb-672d62db2218\",\"type\":\"UnionRenderers\"}},\"id\":\"cdd11141-974c-4d7b-9333-185920ddd18d\",\"type\":\"ColumnDataSource\"},{\"attributes\":{},\"id\":\"29127823-fca0-4b10-b1b0-3cfb17e2baba\",\"type\":\"UnionRenderers\"},{\"attributes\":{},\"id\":\"4d2d05ca-66e0-426a-9555-2b9fb5eb735f\",\"type\":\"PanTool\"},{\"attributes\":{},\"id\":\"cafb59be-761f-474a-a5bb-f554b8609ee6\",\"type\":\"ResetTool\"},{\"attributes\":{\"active_drag\":\"auto\",\"active_inspect\":\"auto\",\"active_multi\":null,\"active_scroll\":\"auto\",\"active_tap\":\"auto\",\"tools\":[{\"id\":\"ce573496-355c-409c-b958-ca343e42c180\",\"type\":\"HoverTool\"},{\"id\":\"01c305f2-9c92-42a4-9ea3-b6b2a00f13c2\",\"type\":\"WheelZoomTool\"},{\"id\":\"4d2d05ca-66e0-426a-9555-2b9fb5eb735f\",\"type\":\"PanTool\"},{\"id\":\"cafb59be-761f-474a-a5bb-f554b8609ee6\",\"type\":\"ResetTool\"},{\"id\":\"db585650-8522-4655-a0a0-8f0e1604e238\",\"type\":\"SaveTool\"}]},\"id\":\"d0d4b111-042d-4400-9f19-0136db09a516\",\"type\":\"Toolbar\"},{\"attributes\":{},\"id\":\"dc12528d-843b-42c7-bf92-5a76497c6964\",\"type\":\"Selection\"},{\"attributes\":{\"callback\":null,\"data\":{\"x\":[1,10,20,30,40,50,60,70,80,90,100,110,120,130,140,150,160,170,180,190,200,210,220,230,240,250,260,270,280,290,300,310,320,330,340,350,360,370,380,390,400,410,420,430,440,450,460,470,480,490,500,510,520,530,540,550,560,570,580,590,600,610,620,630,640,650,660,670,680,690,700,710,720,730,740,750,760,770,780,790,800,810,820,830,840,850,860,870,880,890,900,910,920,930,940,950,960,970,980,990,1000,1010,1020,1030,1040,1050,1060,1070,1080,1090,1100,1110,1120,1130,1140,1150,1160,1170,1180,1190,1200,1210,1220,1230,1240,1250,1260,1270,1280,1290,1300,1310,1320,1330,1340,1350,1360,1370,1380,1390,1400,1410,1420,1430,1440,1450,1460,1470,1480,1490,1500,1510,1520,1530,1540,1550,1560,1570,1580,1590,1600,1610,1620,1630,1640,1650,1660,1670,1680,1690,1700,1710,1720,1730,1740,1750,1760,1770,1780,1790,1800,1810,1820,1830,1840,1850,1860,1870,1880,1890,1900,1910,1920,1930,1940,1950,1960,1970,1980,1990,2000,2010,2020,2030,2040,2050,2060,2070,2080,2090,2100,2110,2120,2130,2140,2150,2160,2170,2180,2190,2200,2210,2220,2230,2240,2250,2260,2270,2280,2290,2300,2310,2320,2330,2340,2350,2360,2370,2380,2390,2400,2410,2420,2430,2440,2450,2460,2470,2480,2490,2500,2510,2520,2530,2540,2550,2560,2570,2580,2590,2600,2610,2620,2630,2640,2650,2660,2670,2680,2690,2700,2710,2720,2730,2740,2750,2760,2770,2780,2790,2800,2810,2820,2830,2840,2850,2860,2870,2880,2890,2900,2910,2920,2930,2940,2950,2960,2970,2980,2990,3000,3010,3020,3030,3040,3050,3060,3070,3080,3090,3100,3110,3120,3130,3140,3150,3160,3170,3180,3190,3200,3210,3220,3230,3240,3250,3260,3270,3280,3290,3300,3310,3320,3330,3340,3350,3360,3370,3380,3390,3400,3410,3420,3430,3440,3450,3460,3470,3480,3490,3500,3510,3520,3530,3540,3550,3560,3570,3580,3590,3600,3610,3620,3630,3640,3650,3660,3670,3680,3690,3700,3710,3720,3730,3740,3750,3760,3770,3780,3790,3800,3810,3820,3830,3840,3850,3860,3870,3880,3890,3900,3910,3920,3930,3940,3950,3960,3970,3980,3990,4000,4010,4020,4030,4040,4050,4060,4070,4080,4090,4100,4110,4120,4130,4140,4150,4160,4170,4180,4190,4200,4210,4220,4230,4240,4250,4260,4270,4280,4290,4300,4310,4320,4330,4340,4350,4360,4370,4380,4390,4400,4410,4420,4430,4440,4450,4460,4470,4480,4490,4500,4510,4520,4530,4540,4550,4560,4570,4580,4590,4600,4610,4620,4630,4640,4650,4660,4670,4680,4690,4700,4710,4720,4730,4740,4750,4760,4770,4780,4790,4800,4810,4820,4830,4840,4850,4860,4870,4880,4890,4900,4910,4920,4930,4940,4950,4960,4970,4980,4990,5000,5010,5020,5030,5040,5050,5060,5070,5080,5090,5100,5110,5120,5130,5140,5150,5160,5170,5180,5190,5200,5210,5220,5230,5240,5250,5260,5270,5280,5290,5300,5310,5320,5330,5340,5350,5360,5370,5380,5390,5400,5410,5420,5430,5440,5450,5460,5470,5480,5490,5500,5510,5520,5530,5540,5550,5560,5570,5580,5590,5600,5610,5620,5630,5640,5650,5660,5670,5680,5690,5700,5710,5720,5730,5740,5750,5760,5770,5780,5790,5800,5810,5820,5830,5840,5850,5860,5870,5880,5890,5900,5910,5920,5930,5940,5950,5960,5970,5980,5990,6000,6010,6020,6030,6040,6050,6060,6070,6080,6090,6100,6110,6120,6130,6140,6150,6160,6170,6180,6190,6200,6210,6220,6230,6240,6250,6260,6270,6280,6290,6300,6310,6320,6330,6340,6350,6360,6370,6380,6390,6400,6410,6420,6430,6440,6450,6460,6470,6480,6490,6500,6510,6520,6530,6540,6550,6560,6570,6580,6590,6600,6610,6620,6630,6640,6650,6660,6670,6680,6690,6700,6710,6720,6730,6740,6750,6760,6770,6780,6790,6800,6810,6820,6830,6840,6850,6860,6870,6880,6890,6900,6910,6920,6930,6940,6950,6960,6970,6980,6990,7000,7010,7020,7030,7040,7050,7060,7070,7080,7090,7100,7110,7120,7130,7140,7150,7160,7170,7180,7190,7200,7210,7220,7230,7240,7250,7260,7270,7280,7290,7300,7310,7320,7330,7340,7350,7360,7370,7380,7390,7400,7410,7420,7430,7440,7450,7460,7470,7480,7490,7500],\"y\":{\"__ndarray__\":\"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\",\"dtype\":\"float64\",\"shape\":[751]}},\"selected\":{\"id\":\"dc12528d-843b-42c7-bf92-5a76497c6964\",\"type\":\"Selection\"},\"selection_policy\":{\"id\":\"c56edfe9-cb7e-4eb6-a352-4b8fe4ff8b2d\",\"type\":\"UnionRenderers\"}},\"id\":\"a7d8f4ff-11e0-484d-a3a4-0ad99eeb78e1\",\"type\":\"ColumnDataSource\"},{\"attributes\":{\"line_alpha\":0.1,\"line_color\":\"#1f77b4\",\"line_width\":2,\"x\":{\"field\":\"x\"},\"y\":{\"field\":\"y\"}},\"id\":\"3f71737c-ebb4-4cad-8bbe-f48ae3c4f669\",\"type\":\"Line\"},{\"attributes\":{\"line_color\":\"green\",\"x\":{\"field\":\"x\"},\"y\":{\"field\":\"y\"}},\"id\":\"89878ace-e189-4414-acf4-3633bc4492e3\",\"type\":\"Line\"},{\"attributes\":{\"line_alpha\":0.2,\"line_color\":\"yellow\",\"x\":{\"field\":\"x\"},\"y\":{\"field\":\"y\"}},\"id\":\"59568890-6eb8-4a79-9fe0-f5d340253705\",\"type\":\"Line\"},{\"attributes\":{},\"id\":\"a0df6953-82c0-4427-bc8b-edf3d77ec978\",\"type\":\"UnionRenderers\"},{\"attributes\":{\"line_color\":\"orange\",\"x\":{\"field\":\"x\"},\"y\":{\"field\":\"y\"}},\"id\":\"4b5f00d8-a146-4a22-b7a3-8e6aa631dbc5\",\"type\":\"Line\"},{\"attributes\":{},\"id\":\"01c305f2-9c92-42a4-9ea3-b6b2a00f13c2\",\"type\":\"WheelZoomTool\"},{\"attributes\":{\"label\":{\"value\":\"Pipeline 2 direction\"},\"renderers\":[{\"id\":\"d1de4087-4637-4375-94c9-bb4c46262613\",\"type\":\"GlyphRenderer\"}]},\"id\":\"2cc0e9cd-2f26-4135-89d0-92784b283d38\",\"type\":\"LegendItem\"},{\"attributes\":{\"label\":{\"value\":\"Pipeline 3 direction\"},\"renderers\":[{\"id\":\"6d591a5b-c109-4f87-b4af-7463044c763f\",\"type\":\"GlyphRenderer\"}]},\"id\":\"45083799-9c3a-455d-8feb-66a47eccb6ca\",\"type\":\"LegendItem\"},{\"attributes\":{\"callback\":null},\"id\":\"814b3489-175e-4264-a73c-d056751ef89c\",\"type\":\"DataRange1d\"},{\"attributes\":{\"label\":{\"value\":\"Pipeline 1 direction\"},\"renderers\":[{\"id\":\"eada326d-6cf3-46f1-963c-d70234be82eb\",\"type\":\"GlyphRenderer\"}]},\"id\":\"2d70d973-2b28-4d28-a2cc-97f3abc49e1a\",\"type\":\"LegendItem\"},{\"attributes\":{},\"id\":\"510a7fd7-38bb-472a-a309-e967b39cbfa7\",\"type\":\"LinearScale\"},{\"attributes\":{\"source\":{\"id\":\"6397b65a-58cb-4f38-ba67-d3a616ebad2b\",\"type\":\"ColumnDataSource\"}},\"id\":\"4d82053e-587f-4bab-9284-50906524e998\",\"type\":\"CDSView\"},{\"attributes\":{\"callback\":null,\"data\":{\"x\":[1,10,20,30,40,50,60,70,80,90,100,110,120,130,140,150,160,170,180,190,200,210,220,230,240,250,260,270,280,290,300,310,320,330,340,350,360,370,380,390,400,410,420,430,440,450,460,470,480,490,500,510,520,530,540,550,560,570,580,590,600,610,620,630,640,650,660,670,680,690,700,710,720,730,740,750,760,770,780,790,800,810,820,830,840,850,860,870,880,890,900,910,920,930,940,950,960,970,980,990,1000,1010,1020,1030,1040,1050,1060,1070,1080,1090,1100,1110,1120,1130,1140,1150,1160,1170,1180,1190,1200,1210,1220,1230,1240,1250,1260,1270,1280,1290,1300,1310,1320,1330,1340,1350,1360,1370,1380,1390,1400,1410,1420,1430,1440,1450,1460,1470,1480,1490,1500,1510,1520,1530,1540,1550,1560,1570,1580,1590,1600,1610,1620,1630,1640,1650,1660,1670,1680,1690,1700,1710,1720,1730,1740,1750,1760,1770,1780,1790,1800,1810,1820,1830,1840,1850,1860,1870,1880,1890,1900,1910,1920,1930,1940,1950,1960,1970,1980,1990,2000,2010,2020,2030,2040,2050,2060,2070,2080,2090,2100,2110,2120,2130,2140,2150,2160,2170,2180,2190,2200,2210,2220,2230,2240,2250,2260,2270,2280,2290,2300,2310,2320,2330,2340,2350,2360,2370,2380,2390,2400,2410,2420,2430,2440,2450,2460,2470,2480,2490,2500,2510,2520,2530,2540,2550,2560,2570,2580,2590,2600,2610,2620,2630,2640,2650,2660,2670,2680,2690,2700,2710,2720,2730,2740,2750,2760,2770,2780,2790,2800,2810,2820,2830,2840,2850,2860,2870,2880,2890,2900,2910,2920,2930,2940,2950,2960,2970,2980,2990,3000,3010,3020,3030,3040,3050,3060,3070,3080,3090,3100,3110,3120,3130,3140,3150,3160,3170,3180,3190,3200,3210,3220,3230,3240,3250,3260,3270,3280,3290,3300,3310,3320,3330,3340,3350,3360,3370,3380,3390,3400,3410,3420,3430,3440,3450,3460,3470,3480,3490,3500,3510,3520,3530,3540,3550,3560,3570,3580,3590,3600,3610,3620,3630,3640,3650,3660,3670,3680,3690,3700,3710,3720,3730,3740,3750,3760,3770,3780,3790,3800,3810,3820,3830,3840,3850,3860,3870,3880,3890,3900,3910,3920,3930,3940,3950,3960,3970,3980,3990,4000,4010,4020,4030,4040,4050,4060,4070,4080,4090,4100,4110,4120,4130,4140,4150,4160,4170,4180,4190,4200,4210,4220,4230,4240,4250,4260,4270,4280,4290,4300,4310,4320,4330,4340,4350,4360,4370,4380,4390,4400,4410,4420,4430,4440,4450,4460,4470,4480,4490,4500,4510,4520,4530,4540,4550,4560,4570,4580,4590,4600,4610,4620,4630,4640,4650,4660,4670,4680,4690,4700,4710,4720,4730,4740,4750,4760,4770,4780,4790,4800,4810,4820,4830,4840,4850,4860,4870,4880,4890,4900,4910,4920,4930,4940,4950,4960,4970,4980,4990,5000,5010,5020,5030,5040,5050,5060,5070,5080,5090,5100,5110,5120,5130,5140,5150,5160,5170,5180,5190,5200,5210,5220,5230,5240,5250,5260,5270,5280,5290,5300,5310,5320,5330,5340,5350,5360,5370,5380,5390,5400,5410,5420,5430,5440,5450,5460,5470,5480,5490,5500,5510,5520,5530,5540,5550,5560,5570,5580,5590,5600,5610,5620,5630,5640,5650,5660,5670,5680,5690,5700,5710,5720,5730,5740,5750,5760,5770,5780,5790,5800,5810,5820,5830,5840,5850,5860,5870,5880,5890,5900,5910,5920,5930,5940,5950,5960,5970,5980,5990,6000,6010,6020,6030,6040,6050,6060,6070,6080,6090,6100,6110,6120,6130,6140,6150,6160,6170,6180,6190,6200,6210,6220,6230,6240,6250,6260,6270,6280,6290,6300,6310,6320,6330,6340,6350,6360,6370,6380,6390,6400,6410,6420,6430,6440,6450,6460,6470,6480,6490,6500,6510,6520,6530,6540,6550,6560,6570,6580,6590,6600,6610,6620,6630,6640,6650,6660,6670,6680,6690,6700,6710,6720,6730,6740,6750,6760,6770,6780,6790,6800,6810,6820,6830,6840,6850,6860,6870,6880,6890,6900,6910,6920,6930,6940,6950,6960,6970,6980,6990,7000,7010,7020,7030,7040,7050,7060,7070,7080,7090,7100,7110,7120,7130,7140,7150,7160,7170,7180,7190,7200,7210,7220,7230,7240,7250,7260,7270,7280,7290,7300,7310,7320,7330,7340,7350,7360,7370,7380,7390,7400,7410,7420,7430,7440,7450,7460,7470,7480,7490,7500],\"y\":{\"__ndarray__\":\"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\",\"dtype\":\"float64\",\"shape\":[751]}},\"selected\":{\"id\":\"e2a8efff-70e8-4870-b6e6-8bd02d704ecc\",\"type\":\"Selection\"},\"selection_policy\":{\"id\":\"29127823-fca0-4b10-b1b0-3cfb17e2baba\",\"type\":\"UnionRenderers\"}},\"id\":\"056c6592-5eb0-4d88-a705-b5742ffbc822\",\"type\":\"ColumnDataSource\"},{\"attributes\":{\"data_source\":{\"id\":\"056c6592-5eb0-4d88-a705-b5742ffbc822\",\"type\":\"ColumnDataSource\"},\"glyph\":{\"id\":\"47653a79-5d8d-4c9d-8892-4290dcba6514\",\"type\":\"Line\"},\"hover_glyph\":null,\"muted_glyph\":{\"id\":\"59568890-6eb8-4a79-9fe0-f5d340253705\",\"type\":\"Line\"},\"nonselection_glyph\":{\"id\":\"332e150f-bcb2-450b-96be-f1b66355510c\",\"type\":\"Line\"},\"selection_glyph\":null,\"view\":{\"id\":\"57708716-45f8-40f4-bc43-c90dc81d403b\",\"type\":\"CDSView\"}},\"id\":\"d1de4087-4637-4375-94c9-bb4c46262613\",\"type\":\"GlyphRenderer\"},{\"attributes\":{},\"id\":\"a6231b2a-906e-4ee5-adcb-672d62db2218\",\"type\":\"UnionRenderers\"}],\"root_ids\":[\"d7d669b4-8db9-498b-a984-07fb4ae18742\"]},\"title\":\"Bokeh Application\",\"version\":\"0.13.0\"}};\n",
       "  var render_items = [{\"docid\":\"b8f7e067-4b16-4b91-bff8-bcbb35e52425\",\"roots\":{\"d7d669b4-8db9-498b-a984-07fb4ae18742\":\"9da9db4b-811f-4076-ae25-64013c56f1d2\"}}];\n",
       "  root.Bokeh.embed.embed_items_notebook(docs_json, render_items);\n",
       "\n",
       "  }\n",
       "  if (root.Bokeh !== undefined) {\n",
       "    embed_document(root);\n",
       "  } else {\n",
       "    var attempts = 0;\n",
       "    var timer = setInterval(function(root) {\n",
       "      if (root.Bokeh !== undefined) {\n",
       "        embed_document(root);\n",
       "        clearInterval(timer);\n",
       "      }\n",
       "      attempts++;\n",
       "      if (attempts > 100) {\n",
       "        console.log(\"Bokeh: ERROR: Unable to run BokehJS code because BokehJS library is missing\")\n",
       "        clearInterval(timer);\n",
       "      }\n",
       "    }, 10, root)\n",
       "  }\n",
       "})(window);"
      ],
      "application/vnd.bokehjs_exec.v0+json": ""
     },
     "metadata": {
      "application/vnd.bokehjs_exec.v0+json": {
       "id": "d7d669b4-8db9-498b-a984-07fb4ae18742"
      }
     },
     "output_type": "display_data"
    }
   ],
   "source": [
    "# наведение на график\n",
    "hover = HoverTool(\n",
    "        tooltips=[\n",
    "            (\"Price\", \"$y\"),\n",
    "            (\"Distance\", \"$x\")\n",
    "        ],\n",
    "    )\n",
    "\n",
    "# создание графика\n",
    "p = figure(plot_width=950, plot_height=500, tools=[hover])\n",
    "p.add_tools(WheelZoomTool(),PanTool(),ResetTool(),SaveTool())\n",
    "\n",
    "colors = ['purple','yellow','green','orange','blue']\n",
    "\n",
    "# заголовок\n",
    "p.title.text = \"Results of gas price modeling\"\n",
    "p.title.align = \"center\"\n",
    "p.title.text_font_size = \"25px\"\n",
    "\n",
    "# значения\n",
    "p.line(df.index, df['LNG converted to natural gas'], line_width=2, color=\"black\",muted_color=\"firebrick\", muted_alpha=0.2,legend=\"LNG converted to natural gas\")\n",
    "for i in range(5):\n",
    "    p.line(df.index, df['Pipeline '+str(i+1)+' direction'], line_width=1, color=colors[i], muted_color=colors[i], muted_alpha=0.2,legend='Pipeline '+str(i+1)+' direction')\n",
    "\n",
    "# Легенда\n",
    "p.yaxis.axis_label = 'Price, RUB/m3'\n",
    "p.xaxis.axis_label = 'Distance,km'\n",
    "p.legend.location = \"top_left\"\n",
    "p.legend.click_policy=\"mute\"\n",
    "\n",
    "show(p) # show the results"
   ]
  },
  {
   "cell_type": "code",
   "execution_count": 54,
   "metadata": {},
   "outputs": [],
   "source": [
    "dataframe_name = 'Results_of_gas_price_modeling.csv'"
   ]
  },
  {
   "cell_type": "code",
   "execution_count": 55,
   "metadata": {},
   "outputs": [],
   "source": [
    "df.to_csv(dataframe_name, sep='\\t', encoding='utf-8')"
   ]
  },
  {
   "cell_type": "code",
   "execution_count": null,
   "metadata": {},
   "outputs": [],
   "source": []
  }
 ],
 "metadata": {
  "kernelspec": {
   "display_name": "Python 3",
   "language": "python",
   "name": "python3"
  },
  "language_info": {
   "codemirror_mode": {
    "name": "ipython",
    "version": 3
   },
   "file_extension": ".py",
   "mimetype": "text/x-python",
   "name": "python",
   "nbconvert_exporter": "python",
   "pygments_lexer": "ipython3",
   "version": "3.6.7"
  }
 },
 "nbformat": 4,
 "nbformat_minor": 2
}
